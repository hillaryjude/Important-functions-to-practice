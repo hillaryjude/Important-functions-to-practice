{
 "cells": [
  {
   "cell_type": "markdown",
   "id": "f91f8c10-eecc-40c2-b126-eeadd99f34c4",
   "metadata": {},
   "source": [
    "# PYTHON BASICS PRACTICE"
   ]
  },
  {
   "cell_type": "code",
   "execution_count": 1,
   "id": "0f0cb356-f01c-4d7a-bfef-e28ac5f3b97e",
   "metadata": {},
   "outputs": [],
   "source": [
    "arr1 = [1,2,3]\n",
    "arr2 = [6,5,4]"
   ]
  },
  {
   "cell_type": "code",
   "execution_count": 2,
   "id": "3e5516c9-7848-463f-aeef-5b45b700cf22",
   "metadata": {},
   "outputs": [],
   "source": [
    "arr1.append(arr2)"
   ]
  },
  {
   "cell_type": "code",
   "execution_count": 3,
   "id": "8189a67e-9b77-4176-ac7b-84708e8b6950",
   "metadata": {},
   "outputs": [
    {
     "name": "stdout",
     "output_type": "stream",
     "text": [
      "[1, 2, 3, [6, 5, 4]]\n"
     ]
    }
   ],
   "source": [
    "print(arr1)"
   ]
  },
  {
   "cell_type": "code",
   "execution_count": 4,
   "id": "433efd98-b729-499a-8e40-557f9e1d924c",
   "metadata": {},
   "outputs": [],
   "source": [
    "arr1.extend(arr2)"
   ]
  },
  {
   "cell_type": "code",
   "execution_count": 5,
   "id": "29c69f22-be08-44c0-bc6e-5bc3942ceac0",
   "metadata": {},
   "outputs": [
    {
     "data": {
      "text/plain": [
       "[1, 2, 3, [6, 5, 4], 6, 5, 4]"
      ]
     },
     "execution_count": 5,
     "metadata": {},
     "output_type": "execute_result"
    }
   ],
   "source": [
    "arr1"
   ]
  },
  {
   "cell_type": "code",
   "execution_count": 6,
   "id": "c20eeeb0-3b4c-4e3c-8525-680fb70e0707",
   "metadata": {},
   "outputs": [],
   "source": [
    "arr2.sort()"
   ]
  },
  {
   "cell_type": "code",
   "execution_count": 7,
   "id": "2e22fdcd-fdee-4606-bdaa-794747acd2e5",
   "metadata": {},
   "outputs": [
    {
     "data": {
      "text/plain": [
       "[4, 5, 6]"
      ]
     },
     "execution_count": 7,
     "metadata": {},
     "output_type": "execute_result"
    }
   ],
   "source": [
    "arr2"
   ]
  },
  {
   "cell_type": "markdown",
   "id": "35b547a6-8628-4098-8e50-54307d369494",
   "metadata": {},
   "source": [
    "## Replace with Cube"
   ]
  },
  {
   "cell_type": "code",
   "execution_count": 2,
   "id": "23e6aa00-270c-42e0-9f12-470d6048ee44",
   "metadata": {},
   "outputs": [],
   "source": [
    "def replace_cube(arr, N):\n",
    "    res_list = arr.copy()\n",
    "    # Your code starts here\n",
    "    for i in range(len(res_list)): \n",
    "        if (i + 1) % N == 0: \n",
    "            res_list[i] = res_list[i]**3 \n",
    "\n",
    "    # Your code ends here\n",
    "    return res_list"
   ]
  },
  {
   "cell_type": "code",
   "execution_count": 3,
   "id": "83292dd6-0634-497c-97c6-2ad03fa728c7",
   "metadata": {},
   "outputs": [
    {
     "name": "stdout",
     "output_type": "stream",
     "text": [
      "[1, 8, 3, 64, 5]\n"
     ]
    }
   ],
   "source": [
    "arr = [1,2,3,4,5]\n",
    "print(replace_cube(arr,2))"
   ]
  },
  {
   "cell_type": "code",
   "execution_count": 4,
   "id": "9e2b332e-40aa-42c6-bae5-05a4244dfd54",
   "metadata": {},
   "outputs": [
    {
     "name": "stdout",
     "output_type": "stream",
     "text": [
      "9\n"
     ]
    }
   ],
   "source": [
    "lis = [(0, 2), (1, 3), (2, 4)]\n",
    "result = sum (n for _, n in lis)\n",
    "print(result)"
   ]
  },
  {
   "cell_type": "raw",
   "id": "3d5d8a6d-c5c6-41e1-af20-702c02193cff",
   "metadata": {},
   "source": [
    "Let me break down this Python code step by step:\n",
    "\n",
    "1. First, let's look at `lis = [(0, 2), (1, 3), (2, 4)]`:\n",
    "   - This creates a list containing three tuples\n",
    "   - Each tuple has two numbers: (0,2), (1,3), and (2,4)\n",
    "   - The first number in each tuple is at index 0, the second at index 1\n",
    "\n",
    "2. Then `result = sum(n for _, n in lis)`:\n",
    "   - This is using a generator expression with tuple unpacking\n",
    "   - `_, n in lis`: \n",
    "     - The underscore `_` is used as a throwaway variable for the first number in each tuple\n",
    "     - `n` captures the second number in each tuple\n",
    "   - So it's basically saying:\n",
    "     - Take each tuple from the list\n",
    "     - Ignore the first number (captured by `_`)\n",
    "     - Use the second number (captured by `n`)\n",
    "     - Add all these second numbers together\n",
    "\n",
    "Let's break it down step by step:\n",
    "\n",
    "```python\n",
    "# For first tuple (0, 2):\n",
    "# _ = 0 (ignored)\n",
    "# n = 2 (used)\n",
    "\n",
    "# For second tuple (1, 3):\n",
    "# _ = 1 (ignored)\n",
    "# n = 3 (used)\n",
    "\n",
    "# For third tuple (2, 4):\n",
    "# _ = 2 (ignored)\n",
    "# n = 4 (used)\n",
    "\n",
    "# sum(2 + 3 + 4) = 9\n",
    "```\n",
    "\n",
    "So `result` will be 9, because:\n",
    "- From (0,2) we take 2\n",
    "- From (1,3) we take 3\n",
    "- From (2,4) we take 4\n",
    "- 2 + 3 + 4 = 9\n",
    "\n",
    "This same operation could be written in a more verbose way:\n",
    "```python\n",
    "result = 0\n",
    "for first_num, second_num in lis:\n",
    "    result += second_num\n",
    "```\n",
    "\n",
    "The underscore `_` is a convention in Python to indicate that we won't be using that variable in our code. It's a way to tell other programmers \"we're deliberately ignoring this value.\""
   ]
  },
  {
   "cell_type": "code",
   "execution_count": 2,
   "id": "a73ab8f8-0d4d-4910-87f4-f052d82432fc",
   "metadata": {},
   "outputs": [
    {
     "data": {
      "text/plain": [
       "'keyword'"
      ]
     },
     "execution_count": 2,
     "metadata": {},
     "output_type": "execute_result"
    }
   ],
   "source": [
    "\"keyword\""
   ]
  },
  {
   "cell_type": "code",
   "execution_count": 4,
   "id": "0bbbe6a6-e208-4dfe-9462-e66af5485476",
   "metadata": {},
   "outputs": [
    {
     "name": "stdout",
     "output_type": "stream",
     "text": [
      "\n",
      "Here is a list of the Python keywords.  Enter any keyword to get more help.\n",
      "\n",
      "False               class               from                or\n",
      "None                continue            global              pass\n",
      "True                def                 if                  raise\n",
      "and                 del                 import              return\n",
      "as                  elif                in                  try\n",
      "assert              else                is                  while\n",
      "async               except              lambda              with\n",
      "await               finally             nonlocal            yield\n",
      "break               for                 not                 \n",
      "\n"
     ]
    }
   ],
   "source": [
    "help('keywords')"
   ]
  },
  {
   "cell_type": "code",
   "execution_count": 37,
   "id": "55704a50-91eb-4db2-8d06-c9a7993c9147",
   "metadata": {},
   "outputs": [],
   "source": [
    "def star(n):\n",
    "    for row in range(1,n+1):\n",
    "        for column in range(row):\n",
    "            print(\"*\" * row)\n",
    "            break\n",
    "        "
   ]
  },
  {
   "cell_type": "code",
   "execution_count": 38,
   "id": "4df2e552-3a3b-452b-a8d0-5e4d4d755c40",
   "metadata": {},
   "outputs": [
    {
     "name": "stdout",
     "output_type": "stream",
     "text": [
      "*\n",
      "**\n",
      "***\n",
      "****\n",
      "None\n"
     ]
    }
   ],
   "source": [
    "print(star(4))"
   ]
  },
  {
   "cell_type": "code",
   "execution_count": 70,
   "id": "6d6065a6-f760-4a6e-b7fb-0a7219374173",
   "metadata": {},
   "outputs": [],
   "source": [
    "def inctriangle(n):\n",
    "    for i in range(n):\n",
    "        for j in range(i+1):\n",
    "            print(\"*\", end = \" \")\n",
    "        print()\n",
    "            "
   ]
  },
  {
   "cell_type": "code",
   "execution_count": 71,
   "id": "607bfc8e-4450-4a13-ae08-17b3547c74e7",
   "metadata": {},
   "outputs": [
    {
     "name": "stdout",
     "output_type": "stream",
     "text": [
      "* \n",
      "* * \n",
      "* * * \n",
      "* * * * \n",
      "None\n"
     ]
    }
   ],
   "source": [
    "print(inctriangle(4))"
   ]
  },
  {
   "cell_type": "code",
   "execution_count": 72,
   "id": "bf6fab6a-24a1-4e6b-a0bf-f7aa283390ca",
   "metadata": {},
   "outputs": [
    {
     "name": "stdout",
     "output_type": "stream",
     "text": [
      "* \n",
      "* * \n",
      "* * * \n",
      "* * * * \n",
      "* * * * * \n",
      "* * * * * * \n",
      "* * * * * * * \n",
      "None\n"
     ]
    }
   ],
   "source": [
    "print(inctriangle(7))"
   ]
  },
  {
   "cell_type": "code",
   "execution_count": 73,
   "id": "0fd70a9b-83ad-403e-8039-17f35b0da4c9",
   "metadata": {},
   "outputs": [],
   "source": [
    "def box(n):\n",
    "    for i in range(n):\n",
    "        for j in range(n):\n",
    "            print('*', end = \" \")\n",
    "        print()"
   ]
  },
  {
   "cell_type": "code",
   "execution_count": 74,
   "id": "58925ff2-16dd-4e03-be78-649a18a1fc53",
   "metadata": {},
   "outputs": [
    {
     "name": "stdout",
     "output_type": "stream",
     "text": [
      "* * * * * * * \n",
      "* * * * * * * \n",
      "* * * * * * * \n",
      "* * * * * * * \n",
      "* * * * * * * \n",
      "* * * * * * * \n",
      "* * * * * * * \n",
      "None\n"
     ]
    }
   ],
   "source": [
    "print(box(7))"
   ]
  },
  {
   "cell_type": "code",
   "execution_count": 75,
   "id": "e61466ba-f978-4f7c-a8ac-74a70b732837",
   "metadata": {},
   "outputs": [],
   "source": [
    "def dectri(n):\n",
    "    for i in range(n):\n",
    "        for j in range(i,n):\n",
    "            print('*', end = \" \")\n",
    "        print()"
   ]
  },
  {
   "cell_type": "code",
   "execution_count": 76,
   "id": "229aa64d-083c-48f9-9ed1-f563840e45c4",
   "metadata": {},
   "outputs": [
    {
     "name": "stdout",
     "output_type": "stream",
     "text": [
      "* * * * * * * \n",
      "* * * * * * \n",
      "* * * * * \n",
      "* * * * \n",
      "* * * \n",
      "* * \n",
      "* \n",
      "None\n"
     ]
    }
   ],
   "source": [
    "print(dectri(7))"
   ]
  },
  {
   "cell_type": "code",
   "execution_count": 80,
   "id": "d95b0859-1d5e-48da-a814-54ffc856080b",
   "metadata": {},
   "outputs": [],
   "source": [
    "def righttri(n):\n",
    "    for i in range(n):#5\n",
    "        for j in range(i,n):#0,5\n",
    "            print(\" \",end=\" \")#______\n",
    "        for j in range(i+1):#_____*\n",
    "            print(\"*\",end=\" \")\n",
    "        print()"
   ]
  },
  {
   "cell_type": "code",
   "execution_count": 81,
   "id": "e00875ee-d6a3-4ff3-bc38-5cb57b779c39",
   "metadata": {},
   "outputs": [
    {
     "name": "stdout",
     "output_type": "stream",
     "text": [
      "              * \n",
      "            * * \n",
      "          * * * \n",
      "        * * * * \n",
      "      * * * * * \n",
      "    * * * * * * \n",
      "  * * * * * * * \n",
      "None\n"
     ]
    }
   ],
   "source": [
    "print(righttri(7))"
   ]
  },
  {
   "cell_type": "code",
   "execution_count": 88,
   "id": "c6987e8e-fc45-4bc6-91fc-ad130c2c5da2",
   "metadata": {},
   "outputs": [],
   "source": [
    "def rytdec(n):\n",
    "    for i in range(n):\n",
    "        for j in range(i):\n",
    "            print(\" \", end = \" \")\n",
    "        for j in range(i,n):\n",
    "            print(\"*\", end = \" \")\n",
    "        print()"
   ]
  },
  {
   "cell_type": "code",
   "execution_count": 89,
   "id": "4fd126ad-a5fc-46d3-a734-83e1e3648288",
   "metadata": {},
   "outputs": [
    {
     "name": "stdout",
     "output_type": "stream",
     "text": [
      "* * * * * * * \n",
      "  * * * * * * \n",
      "    * * * * * \n",
      "      * * * * \n",
      "        * * * \n",
      "          * * \n",
      "            * \n",
      "None\n"
     ]
    }
   ],
   "source": [
    "print(rytdec(7))"
   ]
  },
  {
   "cell_type": "code",
   "execution_count": 96,
   "id": "e7b3897a-d76d-4bbc-8376-d4966cebb744",
   "metadata": {},
   "outputs": [],
   "source": [
    "def inchill(n):\n",
    "    for i in range(n):\n",
    "        for j in range(i,n):\n",
    "            print(\" \", end = \" \")\n",
    "        for j in range(i+1):\n",
    "            print(\"*\", end = \" \")\n",
    "        for j in range(i):\n",
    "            print(\"*\", end = \" \")\n",
    "        print()"
   ]
  },
  {
   "cell_type": "code",
   "execution_count": 97,
   "id": "c3a81c7e-be52-4cec-88f1-2a80cf6bd86e",
   "metadata": {},
   "outputs": [
    {
     "name": "stdout",
     "output_type": "stream",
     "text": [
      "          * \n",
      "        * * * \n",
      "      * * * * * \n",
      "    * * * * * * * \n",
      "  * * * * * * * * * \n",
      "None\n"
     ]
    }
   ],
   "source": [
    "print(inchill(5))"
   ]
  },
  {
   "cell_type": "code",
   "execution_count": 7,
   "id": "df4a32a0-37c7-486c-9efd-bc665cef7d22",
   "metadata": {},
   "outputs": [],
   "source": [
    "def dechill(n):\n",
    "    for i in range(n):\n",
    "        for j in range(i):\n",
    "            print(\" \", end = \" \")\n",
    "        for j in range(n-i):\n",
    "            print(\"*\", end = \" \")\n",
    "        for j in range(i,n-1):\n",
    "            print(\"*\", end = \" \")\n",
    "        print()"
   ]
  },
  {
   "cell_type": "code",
   "execution_count": 8,
   "id": "297104a8-83a7-4726-b946-a759e2ff546a",
   "metadata": {},
   "outputs": [
    {
     "name": "stdout",
     "output_type": "stream",
     "text": [
      "* * * * * * * * * \n",
      "  * * * * * * * \n",
      "    * * * * * \n",
      "      * * * \n",
      "        * \n",
      "None\n"
     ]
    }
   ],
   "source": [
    "print(dechill(5))"
   ]
  },
  {
   "cell_type": "code",
   "execution_count": null,
   "id": "a1e71ebc-0578-45cd-ae44-b676ea082144",
   "metadata": {},
   "outputs": [],
   "source": []
  },
  {
   "cell_type": "markdown",
   "id": "34237c92-85e7-49b4-9f0b-3fe6960251d0",
   "metadata": {},
   "source": [
    "## Pattern Revision"
   ]
  },
  {
   "cell_type": "code",
   "execution_count": 1,
   "id": "38cf3411-7542-423b-a200-d789350db046",
   "metadata": {},
   "outputs": [],
   "source": [
    "def leftarray(n):\n",
    "    for i in range(n):\n",
    "        for j in range(i+1):\n",
    "            print(\"*\", end = \" \")\n",
    "        print()"
   ]
  },
  {
   "cell_type": "code",
   "execution_count": 2,
   "id": "41463d53-8d8a-47de-86ad-91779efbde21",
   "metadata": {},
   "outputs": [
    {
     "name": "stdout",
     "output_type": "stream",
     "text": [
      "* \n",
      "* * \n",
      "* * * \n",
      "* * * * \n",
      "* * * * * \n",
      "None\n"
     ]
    }
   ],
   "source": [
    "print(leftarray(5))"
   ]
  },
  {
   "cell_type": "code",
   "execution_count": 3,
   "id": "0282c6d6-cbab-4695-aba7-b55025bf9178",
   "metadata": {},
   "outputs": [],
   "source": [
    "def rightarray(n):\n",
    "    for i in range(n):\n",
    "        for j in range(n-i):\n",
    "            print(\" \", end = \" \")\n",
    "        for j in range(i+1):\n",
    "            print(\"*\", end = \" \")\n",
    "        print()"
   ]
  },
  {
   "cell_type": "code",
   "execution_count": 4,
   "id": "c0bdee27-2d2c-4713-9713-ec1736c4b5c3",
   "metadata": {},
   "outputs": [
    {
     "name": "stdout",
     "output_type": "stream",
     "text": [
      "          * \n",
      "        * * \n",
      "      * * * \n",
      "    * * * * \n",
      "  * * * * * \n",
      "None\n"
     ]
    }
   ],
   "source": [
    "print(rightarray(5))"
   ]
  },
  {
   "cell_type": "code",
   "execution_count": 9,
   "id": "f6cf0147-b6b6-4655-b94d-2778fdd23676",
   "metadata": {},
   "outputs": [],
   "source": [
    "def boxarray(n):\n",
    "    for i in range(n):\n",
    "        for j in range(n):\n",
    "            print(\"*\", end = \" \")\n",
    "        print()"
   ]
  },
  {
   "cell_type": "code",
   "execution_count": 10,
   "id": "5139cbbb-b351-42ce-91b7-40d1120ebe40",
   "metadata": {},
   "outputs": [
    {
     "name": "stdout",
     "output_type": "stream",
     "text": [
      "* * * * * \n",
      "* * * * * \n",
      "* * * * * \n",
      "* * * * * \n",
      "* * * * * \n",
      "None\n"
     ]
    }
   ],
   "source": [
    "print(boxarray(5))"
   ]
  },
  {
   "cell_type": "code",
   "execution_count": 13,
   "id": "34b174a2-e2ba-4be0-965c-78064446ee5d",
   "metadata": {},
   "outputs": [],
   "source": [
    "def decleft(n):\n",
    "    for i in range(n):\n",
    "        for j in range(n-i):\n",
    "            print(\"*\", end = \" \")\n",
    "        print()"
   ]
  },
  {
   "cell_type": "code",
   "execution_count": 14,
   "id": "9150b909-b2f8-46ac-9228-f2befd835540",
   "metadata": {},
   "outputs": [
    {
     "name": "stdout",
     "output_type": "stream",
     "text": [
      "* * * * * \n",
      "* * * * \n",
      "* * * \n",
      "* * \n",
      "* \n",
      "None\n"
     ]
    }
   ],
   "source": [
    "print(decleft(5))"
   ]
  },
  {
   "cell_type": "code",
   "execution_count": 17,
   "id": "af5f21a3-7842-41f9-9862-cf875092b8ba",
   "metadata": {},
   "outputs": [],
   "source": [
    "def decryt(n):\n",
    "    for i in range(n):\n",
    "        for j in range(i):\n",
    "            print(\" \", end = \" \")\n",
    "        for j in range(n-i):\n",
    "            print(\"*\", end = \" \")\n",
    "        print()"
   ]
  },
  {
   "cell_type": "code",
   "execution_count": 18,
   "id": "eceee48f-fae3-4315-ad8b-2f7a0303705a",
   "metadata": {},
   "outputs": [
    {
     "name": "stdout",
     "output_type": "stream",
     "text": [
      "* * * * * \n",
      "  * * * * \n",
      "    * * * \n",
      "      * * \n",
      "        * \n",
      "None\n"
     ]
    }
   ],
   "source": [
    "print(decryt(5))"
   ]
  },
  {
   "cell_type": "code",
   "execution_count": 21,
   "id": "61ea53a8-c311-4207-97e1-52a4ce0f8d84",
   "metadata": {},
   "outputs": [],
   "source": [
    "def uphill(n):\n",
    "    for i in range(n):\n",
    "        for j in range(n-i):\n",
    "            print(\" \", end = \" \")\n",
    "        for j in range(i+1):\n",
    "            print(\"*\", end = \" \")\n",
    "        for j in range(i):\n",
    "            print(\"*\", end = \" \")\n",
    "        print()\n",
    "        "
   ]
  },
  {
   "cell_type": "code",
   "execution_count": 22,
   "id": "1719362b-761b-40aa-9600-429454eacdc3",
   "metadata": {},
   "outputs": [
    {
     "name": "stdout",
     "output_type": "stream",
     "text": [
      "          * \n",
      "        * * * \n",
      "      * * * * * \n",
      "    * * * * * * * \n",
      "  * * * * * * * * * \n",
      "None\n"
     ]
    }
   ],
   "source": [
    "print(uphill(5))"
   ]
  },
  {
   "cell_type": "markdown",
   "id": "8e4c7740-249b-4b4f-b167-5077183138cb",
   "metadata": {},
   "source": [
    "## Sorting revision"
   ]
  },
  {
   "cell_type": "code",
   "execution_count": 1,
   "id": "b7a3191e-b453-400f-b17a-ad194b049ee7",
   "metadata": {},
   "outputs": [],
   "source": [
    "def insertionsort(arr):\n",
    "    for j in range(1,len(arr)):\n",
    "        key = arr[j]\n",
    "        i = j-1\n",
    "        while i >= 0 and arr[i] > key:\n",
    "            arr[i+1] = arr[i]\n",
    "            i = i-1\n",
    "        arr[i+1] = key\n",
    "    return arr"
   ]
  },
  {
   "cell_type": "code",
   "execution_count": 2,
   "id": "a16788f6-48cc-4cb6-84b1-745ec8315fa8",
   "metadata": {},
   "outputs": [
    {
     "name": "stdout",
     "output_type": "stream",
     "text": [
      "[9, 10, 11, 12, 14, 15]\n"
     ]
    }
   ],
   "source": [
    "lst = [12,14,11,10,9,15]\n",
    "print(insertionsort(lst))"
   ]
  },
  {
   "cell_type": "code",
   "execution_count": 3,
   "id": "03fdbde4-7bb5-4b7b-b86e-4b0b6a42df61",
   "metadata": {},
   "outputs": [
    {
     "name": "stdout",
     "output_type": "stream",
     "text": [
      "[9, 10, 11, 12, 14, 15]\n"
     ]
    }
   ],
   "source": [
    "def bubblesort(arr):\n",
    "    for i in range(len(arr)):\n",
    "        for j in range(len(arr)-i-1):\n",
    "            if arr[j] > arr[j+1]:\n",
    "                arr[j],arr[j+1] = arr[j+1],arr[j]\n",
    "    return arr               "
   ]
  },
  {
   "cell_type": "code",
   "execution_count": 5,
   "id": "dab30ef3-8827-4e40-9544-29b3e4eb343f",
   "metadata": {},
   "outputs": [],
   "source": [
    "lst_2 = [12,14,11,10,9,15]"
   ]
  },
  {
   "cell_type": "code",
   "execution_count": 7,
   "id": "f13b03c4-a482-400d-bdf1-a9bc203e9882",
   "metadata": {},
   "outputs": [
    {
     "name": "stdout",
     "output_type": "stream",
     "text": [
      "[9, 10, 11, 12, 14, 15]\n"
     ]
    }
   ],
   "source": [
    "print(bubblesort(lst_2)) "
   ]
  },
  {
   "cell_type": "code",
   "execution_count": 4,
   "id": "cb3fcb4e-48c6-4998-8f4e-7bfe8fdf2689",
   "metadata": {},
   "outputs": [],
   "source": [
    "def isort(arr):\n",
    "    for j in range(1,len(arr)):\n",
    "        key = arr[j]\n",
    "        i = j-1\n",
    "        while i>=0 and arr[i] > key:\n",
    "            arr[i+1] = arr[i]\n",
    "            i = i-1\n",
    "        arr[i+1] = key\n",
    "    return arr"
   ]
  },
  {
   "cell_type": "code",
   "execution_count": 5,
   "id": "34438f35-1dcc-4855-bd8c-df6b2a8036f6",
   "metadata": {},
   "outputs": [],
   "source": [
    "lst_2 = [12,14,11,10,9,15]"
   ]
  },
  {
   "cell_type": "code",
   "execution_count": 6,
   "id": "e5244efd-ba0a-4b21-8dbf-f0eef028646c",
   "metadata": {},
   "outputs": [
    {
     "name": "stdout",
     "output_type": "stream",
     "text": [
      "[9, 10, 11, 12, 14, 15]\n"
     ]
    }
   ],
   "source": [
    "print(isort(lst_2))"
   ]
  },
  {
   "cell_type": "code",
   "execution_count": 7,
   "id": "e003ee54-241a-4e86-a4b6-76d495b9099c",
   "metadata": {},
   "outputs": [],
   "source": [
    "def bsort(arr):\n",
    "    for i in range(len(arr)):\n",
    "        for j in range(len(arr)-i-1):\n",
    "            if arr[j] > arr[j+1]:\n",
    "                arr[j],arr[j+1] = arr[j+1],arr[j]\n",
    "        print(arr)\n",
    "    return arr\n",
    "        "
   ]
  },
  {
   "cell_type": "code",
   "execution_count": 8,
   "id": "2e2bf5e4-6604-488b-a835-aaa3fbdee724",
   "metadata": {},
   "outputs": [
    {
     "name": "stdout",
     "output_type": "stream",
     "text": [
      "[12, 11, 10, 9, 14, 15]\n",
      "[11, 10, 9, 12, 14, 15]\n",
      "[10, 9, 11, 12, 14, 15]\n",
      "[9, 10, 11, 12, 14, 15]\n",
      "[9, 10, 11, 12, 14, 15]\n",
      "[9, 10, 11, 12, 14, 15]\n",
      "[9, 10, 11, 12, 14, 15]\n"
     ]
    }
   ],
   "source": [
    "lst_2 = [12,14,11,10,9,15]\n",
    "print(bsort(lst_2))"
   ]
  },
  {
   "cell_type": "code",
   "execution_count": 14,
   "id": "231a51d6-7955-44bd-afe8-6a8571558992",
   "metadata": {},
   "outputs": [],
   "source": [
    "def optbs(arr):\n",
    "    for i in range(len(arr)):\n",
    "        swapped = False\n",
    "        for j in range(len(arr)-i-1):\n",
    "            if arr[j] > arr[j+1]:\n",
    "                swapped = True\n",
    "                arr[j],arr[j+1] = arr[j+1],arr[j]\n",
    "            print(arr)\n",
    "        if not swapped:\n",
    "            break\n",
    "    return arr\n",
    "        "
   ]
  },
  {
   "cell_type": "code",
   "execution_count": 15,
   "id": "2351ebfe-e0df-4086-a5b7-616ada858617",
   "metadata": {},
   "outputs": [
    {
     "name": "stdout",
     "output_type": "stream",
     "text": [
      "[12, 14, 11, 10, 9, 1]\n",
      "[12, 11, 14, 10, 9, 1]\n",
      "[12, 11, 10, 14, 9, 1]\n",
      "[12, 11, 10, 9, 14, 1]\n",
      "[12, 11, 10, 9, 1, 14]\n",
      "[11, 12, 10, 9, 1, 14]\n",
      "[11, 10, 12, 9, 1, 14]\n",
      "[11, 10, 9, 12, 1, 14]\n",
      "[11, 10, 9, 1, 12, 14]\n",
      "[10, 11, 9, 1, 12, 14]\n",
      "[10, 9, 11, 1, 12, 14]\n",
      "[10, 9, 1, 11, 12, 14]\n",
      "[9, 10, 1, 11, 12, 14]\n",
      "[9, 1, 10, 11, 12, 14]\n",
      "[1, 9, 10, 11, 12, 14]\n",
      "[1, 9, 10, 11, 12, 14]\n"
     ]
    }
   ],
   "source": [
    "lst_2 = [12,14,11,10,9,1]\n",
    "print(optbs(lst_2))"
   ]
  },
  {
   "cell_type": "code",
   "execution_count": 16,
   "id": "259e32f8-252c-4cef-a183-4b7621639a35",
   "metadata": {},
   "outputs": [
    {
     "name": "stdout",
     "output_type": "stream",
     "text": [
      "[12, 11, 10, 9, 1, 14]\n",
      "[11, 10, 9, 1, 12, 14]\n",
      "[10, 9, 1, 11, 12, 14]\n",
      "[9, 1, 10, 11, 12, 14]\n",
      "[1, 9, 10, 11, 12, 14]\n",
      "[1, 9, 10, 11, 12, 14]\n",
      "[1, 9, 10, 11, 12, 14]\n"
     ]
    }
   ],
   "source": [
    "lst_2 = [12,14,11,10,9,1]\n",
    "print(bsort(lst_2))"
   ]
  },
  {
   "cell_type": "code",
   "execution_count": 27,
   "id": "c4c83609-d169-46de-8b50-75d5224123ac",
   "metadata": {},
   "outputs": [],
   "source": [
    "def selectionsort(arr):\n",
    "    for i in range(len(arr)):\n",
    "        min_index = i\n",
    "        for j in range(i+1,len(arr)):\n",
    "            if arr[j]<arr[min_index]:\n",
    "                min_index = j\n",
    "        arr[i],arr[min_index] = arr[min_index],arr[i]\n",
    "    return arr\n",
    "            "
   ]
  },
  {
   "cell_type": "code",
   "execution_count": 29,
   "id": "1b0faa1e-f27c-4967-85eb-6c2d93f78bc9",
   "metadata": {},
   "outputs": [
    {
     "name": "stdout",
     "output_type": "stream",
     "text": [
      "[1, 2, 5, 6, 55]\n"
     ]
    }
   ],
   "source": [
    "arr = [1,55,6,5,2]\n",
    "print(ss(arr))"
   ]
  },
  {
   "cell_type": "code",
   "execution_count": null,
   "id": "7f218cbb-c6af-4054-acfd-b570c77819d7",
   "metadata": {},
   "outputs": [],
   "source": []
  },
  {
   "cell_type": "markdown",
   "id": "9c5d0478-923e-486e-a49a-2e8205e9114a",
   "metadata": {},
   "source": [
    "## Patterns -2"
   ]
  },
  {
   "cell_type": "code",
   "execution_count": 32,
   "id": "59feb3aa-affe-49fc-b094-6665e229129b",
   "metadata": {},
   "outputs": [],
   "source": [
    "def uphill(n):\n",
    "    for i in range(n):\n",
    "        for j in range(n-i):\n",
    "            print(\" \", end = \" \")\n",
    "        for j in range(i+1):\n",
    "            print(\"*\", end = \" \")\n",
    "        for j in range(i):\n",
    "            print(\"*\", end = \" \")\n",
    "        print()"
   ]
  },
  {
   "cell_type": "code",
   "execution_count": 33,
   "id": "689089e3-cc90-4811-bc30-db61df512681",
   "metadata": {},
   "outputs": [
    {
     "name": "stdout",
     "output_type": "stream",
     "text": [
      "              * \n",
      "            * * * \n",
      "          * * * * * \n",
      "        * * * * * * * \n",
      "      * * * * * * * * * \n",
      "    * * * * * * * * * * * \n",
      "  * * * * * * * * * * * * * \n"
     ]
    }
   ],
   "source": [
    "uphill(7)"
   ]
  },
  {
   "cell_type": "code",
   "execution_count": 38,
   "id": "aba0e77e-6b4d-4086-9c2d-89ea8611662c",
   "metadata": {},
   "outputs": [],
   "source": [
    "def downhill(n):\n",
    "    for i in range(n):\n",
    "        for j in range(i):\n",
    "            print(\" \", end = \" \")\n",
    "        for j in range(n-i):\n",
    "            print(\"*\", end = \" \")\n",
    "        for j in range(n-i-1):\n",
    "            print(\"*\", end = \" \")\n",
    "        print()"
   ]
  },
  {
   "cell_type": "code",
   "execution_count": 39,
   "id": "ca7dde3c-5319-437e-8c66-6a9abc0911c2",
   "metadata": {},
   "outputs": [
    {
     "name": "stdout",
     "output_type": "stream",
     "text": [
      "* * * * * * * * * \n",
      "  * * * * * * * \n",
      "    * * * * * \n",
      "      * * * \n",
      "        * \n"
     ]
    }
   ],
   "source": [
    "downhill(5)"
   ]
  },
  {
   "cell_type": "markdown",
   "id": "61b76714-d0e8-4e6c-ade2-7c7163323024",
   "metadata": {},
   "source": [
    "## Lambda practice"
   ]
  },
  {
   "cell_type": "markdown",
   "id": "ab66af22-67ef-4826-81c4-8130bc5d6b36",
   "metadata": {},
   "source": [
    "**1. Write a Python program to create a lambda function that adds 15 to a given number passed in as an argument, also create a lambda function that multiplies argument x with argument y and prints the result.\n",
    "Sample Output:\n",
    "25\n",
    "48**"
   ]
  },
  {
   "cell_type": "code",
   "execution_count": 3,
   "id": "c8042b42-06c5-4d40-a481-a8f280ecba17",
   "metadata": {},
   "outputs": [
    {
     "name": "stdout",
     "output_type": "stream",
     "text": [
      "21\n"
     ]
    }
   ],
   "source": [
    "sum_result = lambda x : x + 15\n",
    "print(sum_result(6))\n"
   ]
  },
  {
   "cell_type": "code",
   "execution_count": 13,
   "id": "ead24f79-efa6-40f2-a1eb-fade3ba9edb6",
   "metadata": {},
   "outputs": [
    {
     "ename": "NameError",
     "evalue": "name 'z' is not defined",
     "output_type": "error",
     "traceback": [
      "\u001b[1;31m---------------------------------------------------------------------------\u001b[0m",
      "\u001b[1;31mNameError\u001b[0m                                 Traceback (most recent call last)",
      "Cell \u001b[1;32mIn[13], line 2\u001b[0m\n\u001b[0;32m      1\u001b[0m product_result \u001b[38;5;241m=\u001b[39m \u001b[38;5;28;01mlambda\u001b[39;00m y : y \u001b[38;5;241m*\u001b[39m z  \u001b[38;5;66;03m#when 2 variables involved, we have to denote it before '='\u001b[39;00m\n\u001b[1;32m----> 2\u001b[0m \u001b[38;5;28mprint\u001b[39m(\u001b[43mproduct_result\u001b[49m\u001b[43m(\u001b[49m\u001b[38;5;241;43m6\u001b[39;49m\u001b[43m)\u001b[49m(\u001b[38;5;241m7\u001b[39m))\n",
      "Cell \u001b[1;32mIn[13], line 1\u001b[0m, in \u001b[0;36m<lambda>\u001b[1;34m(y)\u001b[0m\n\u001b[1;32m----> 1\u001b[0m product_result \u001b[38;5;241m=\u001b[39m \u001b[38;5;28;01mlambda\u001b[39;00m y : y \u001b[38;5;241m*\u001b[39m \u001b[43mz\u001b[49m  \u001b[38;5;66;03m#when 2 variables involved, we have to denote it before '='\u001b[39;00m\n\u001b[0;32m      2\u001b[0m \u001b[38;5;28mprint\u001b[39m(product_result(\u001b[38;5;241m6\u001b[39m)(\u001b[38;5;241m7\u001b[39m))\n",
      "\u001b[1;31mNameError\u001b[0m: name 'z' is not defined"
     ]
    }
   ],
   "source": [
    "product_result = lambda y : y * z  #when 2 variables involved, we have to denote it before '='\n",
    "print(product_result(6)(7))"
   ]
  },
  {
   "cell_type": "code",
   "execution_count": 14,
   "id": "7225b047-b10e-4cf9-af18-dbcb74edfda2",
   "metadata": {},
   "outputs": [
    {
     "name": "stdout",
     "output_type": "stream",
     "text": [
      "42\n"
     ]
    }
   ],
   "source": [
    "product_result = lambda y, z : y * z \n",
    "print(product_result(6, 7))"
   ]
  },
  {
   "cell_type": "markdown",
   "id": "f73a2339-dbab-48fa-b525-a6ba8c173d97",
   "metadata": {},
   "source": [
    "**2. Write a Python program to create a function that takes one argument, and that argument will be multiplied with an unknown given number.\n",
    "Sample Output:\n",
    "Double the number of 15 = 30\n",
    "Triple the number of 15 = 45\n",
    "Quadruple the number of 15 = 60\n",
    "Quintuple the number 15 = 75**"
   ]
  },
  {
   "cell_type": "code",
   "execution_count": 22,
   "id": "e6e755a0-15e5-4ab6-ab3d-b4c45a184ec8",
   "metadata": {},
   "outputs": [],
   "source": [
    "double_trible = lambda x,n : x * n"
   ]
  },
  {
   "cell_type": "code",
   "execution_count": 23,
   "id": "9ec2b64a-ce2a-438d-882b-e2004e713ed1",
   "metadata": {},
   "outputs": [
    {
     "data": {
      "text/plain": [
       "8"
      ]
     },
     "execution_count": 23,
     "metadata": {},
     "output_type": "execute_result"
    }
   ],
   "source": [
    "double_trible(4,2)"
   ]
  },
  {
   "cell_type": "markdown",
   "id": "9e75c0f7-3ede-4337-aacc-7ed7c9f48d6b",
   "metadata": {},
   "source": [
    "**3. Write a Python program to sort a list of tuples using Lambda.\n",
    "Original list of tuples:\n",
    "[('English', 88), ('Science', 90), ('Maths', 97), ('Social sciences', 82)]\n",
    "Sorting the List of Tuples:\n",
    "[('Social sciences', 82), ('English', 88), ('Science', 90), ('Maths', 97)]**"
   ]
  },
  {
   "cell_type": "code",
   "execution_count": 25,
   "id": "4f609a45-06b1-4e6a-84e2-93c5fd1f8179",
   "metadata": {},
   "outputs": [
    {
     "data": {
      "text/plain": [
       "[('Social sciences', 82), ('English', 88), ('Science', 90), ('Maths', 97)]"
      ]
     },
     "execution_count": 25,
     "metadata": {},
     "output_type": "execute_result"
    }
   ],
   "source": [
    "subjects = [('English', 88), ('Science', 90), ('Maths', 97), ('Social sciences', 82)] \n",
    "sorted(subjects, key = lambda x : x[1])"
   ]
  },
  {
   "cell_type": "markdown",
   "id": "9725ea0b-a222-46b7-987b-20b263f09469",
   "metadata": {},
   "source": [
    "**4. Write a Python program to sort a list of dictionaries using Lambda.\n",
    "Original list of dictionaries :\n",
    "[{'make': 'Nokia', 'model': 216, 'color': 'Black'}, {'make': 'Mi Max', 'model': '2', 'color': 'Gold'}, {'make': 'Samsung', 'model': 7, 'color': 'Blue'}]\n",
    "Sorting the List of dictionaries :\n",
    "[{'make': 'Nokia', 'model': 216, 'color': 'Black'}, {'make': 'Samsung', 'model': 7, 'color': 'Blue'}, {'make': 'Mi Max', 'model': '2', 'color': 'Gold'}]**"
   ]
  },
  {
   "cell_type": "code",
   "execution_count": 27,
   "id": "e4244c8c-20e1-41ef-a90f-87c7fa3b5c4a",
   "metadata": {},
   "outputs": [],
   "source": [
    "phone = [{'make': 'Nokia', 'model': 216, 'color': 'Black'}, {'make': 'Mi Max', 'model': '2', 'color': 'Gold'}, {'make': 'Samsung', 'model': 7, 'color': 'Blue'}] "
   ]
  },
  {
   "cell_type": "code",
   "execution_count": 32,
   "id": "d09fdc23-6a5e-4d82-88ce-8e63adc58ac8",
   "metadata": {},
   "outputs": [
    {
     "data": {
      "text/plain": [
       "[{'make': 'Nokia', 'model': 216, 'color': 'Black'},\n",
       " {'make': 'Samsung', 'model': 7, 'color': 'Blue'},\n",
       " {'make': 'Mi Max', 'model': '2', 'color': 'Gold'}]"
      ]
     },
     "execution_count": 32,
     "metadata": {},
     "output_type": "execute_result"
    }
   ],
   "source": [
    "#sorting based on color of the phone\n",
    "sorted(phone, key = lambda x : x['color'])"
   ]
  },
  {
   "cell_type": "markdown",
   "id": "caf0074c-64bc-40cd-a504-a027db94662b",
   "metadata": {},
   "source": [
    "**5. Write a Python program to filter a list of integers using Lambda.\n",
    "Original list of integers:\n",
    "[1, 2, 3, 4, 5, 6, 7, 8, 9, 10]\n",
    "Even numbers from the said list:\n",
    "[2, 4, 6, 8, 10]\n",
    "Odd numbers from the said list:\n",
    "[1, 3, 5, 7, 9]**"
   ]
  },
  {
   "cell_type": "code",
   "execution_count": 41,
   "id": "f95d2307-65f0-4ea3-bf06-0f3080144115",
   "metadata": {},
   "outputs": [
    {
     "name": "stdout",
     "output_type": "stream",
     "text": [
      "[2, 4, 6, 8, 10]\n",
      "[1, 3, 5, 7, 9]\n"
     ]
    }
   ],
   "source": [
    "# filter(function, iterable)\n",
    "lst = [1, 2, 3, 4, 5, 6, 7, 8, 9, 10]\n",
    "even = list(filter(lambda x:x%2==0,lst))\n",
    "odd = list(filter(lambda y:y%2!=0,lst))\n",
    "print(even)\n",
    "print(odd)"
   ]
  },
  {
   "cell_type": "markdown",
   "id": "6e709e4c-e9d1-4278-87e4-1fde5d84fcc2",
   "metadata": {},
   "source": [
    "**6. Write a Python program to square and cube every number in a given list of integers using Lambda.\n",
    "Original list of integers:\n",
    "[1, 2, 3, 4, 5, 6, 7, 8, 9, 10]\n",
    "Square every number of the said list:\n",
    "[1, 4, 9, 16, 25, 36, 49, 64, 81, 100]\n",
    "Cube every number of the said list:\n",
    "[1, 8, 27, 64, 125, 216, 343, 512, 729, 1000]**"
   ]
  },
  {
   "cell_type": "code",
   "execution_count": 42,
   "id": "6789ecfd-960c-4202-9476-00321dfaade4",
   "metadata": {},
   "outputs": [
    {
     "name": "stdout",
     "output_type": "stream",
     "text": [
      "[1, 4, 9, 16, 25, 36, 49, 64, 81, 100]\n",
      "[1, 8, 27, 64, 125, 216, 343, 512, 729, 1000]\n"
     ]
    }
   ],
   "source": [
    "lst = [1, 2, 3, 4, 5, 6, 7, 8, 9, 10]\n",
    "square = print(list(map(lambda x : x**2, lst)))\n",
    "cube = print(list(map(lambda y : y**3, lst)))\n"
   ]
  },
  {
   "cell_type": "markdown",
   "id": "e23c95c7-fbdc-40f2-8517-63ef13657540",
   "metadata": {},
   "source": [
    "**7. Write a Python program to find if a given string starts with a given character using Lambda.**"
   ]
  },
  {
   "cell_type": "code",
   "execution_count": 44,
   "id": "abd2c879-4ad3-466e-80f9-d6e98bab8366",
   "metadata": {},
   "outputs": [
    {
     "data": {
      "text/plain": [
       "False"
      ]
     },
     "execution_count": 44,
     "metadata": {},
     "output_type": "execute_result"
    }
   ],
   "source": [
    "string = \"hi how are you\"\n",
    "startswith = lambda x : True if x.startswith(\"P\") else False\n",
    "startswith(string)"
   ]
  },
  {
   "cell_type": "code",
   "execution_count": 45,
   "id": "1e6629d8-7345-4949-9420-0fcc5cdca98a",
   "metadata": {},
   "outputs": [
    {
     "data": {
      "text/plain": [
       "False"
      ]
     },
     "execution_count": 45,
     "metadata": {},
     "output_type": "execute_result"
    }
   ],
   "source": [
    "ureka = \"python is an interesting language\"\n",
    "startswith(ureka)"
   ]
  },
  {
   "cell_type": "code",
   "execution_count": 55,
   "id": "1341fee9-f541-436d-890b-5139a73461a0",
   "metadata": {},
   "outputs": [
    {
     "data": {
      "text/plain": [
       "True"
      ]
     },
     "execution_count": 55,
     "metadata": {},
     "output_type": "execute_result"
    }
   ],
   "source": [
    "startswith(ureka.capitalize())"
   ]
  },
  {
   "cell_type": "markdown",
   "id": "950acab2-1af2-4bef-a431-8caad43352b0",
   "metadata": {},
   "source": [
    "## Python refresher 1 to Functional programming"
   ]
  },
  {
   "cell_type": "code",
   "execution_count": 1,
   "id": "ba9cea1c-9d55-4081-84bd-886cb54731ed",
   "metadata": {},
   "outputs": [],
   "source": [
    "string = \"Jude.py\""
   ]
  },
  {
   "cell_type": "code",
   "execution_count": 9,
   "id": "06852d9a-10f5-4d47-bf0b-769bdb302af2",
   "metadata": {},
   "outputs": [],
   "source": [
    "splitted = string.split(\".\")"
   ]
  },
  {
   "cell_type": "code",
   "execution_count": 10,
   "id": "df54f2b0-9cff-4928-b1ae-f352987db5e3",
   "metadata": {},
   "outputs": [
    {
     "data": {
      "text/plain": [
       "'py'"
      ]
     },
     "execution_count": 10,
     "metadata": {},
     "output_type": "execute_result"
    }
   ],
   "source": [
    "splitted[-1]"
   ]
  },
  {
   "cell_type": "code",
   "execution_count": 13,
   "id": "564e02dc-5f6f-445c-b359-d744fe8e5803",
   "metadata": {},
   "outputs": [
    {
     "name": "stdout",
     "output_type": "stream",
     "text": [
      "the exam date is on 11\n"
     ]
    }
   ],
   "source": [
    "#date extraction\n",
    "exam_st_date = (11, 12, 2014)\n",
    "\n",
    "print(f'the exam date is on {exam_st_date[0]}')"
   ]
  },
  {
   "cell_type": "code",
   "execution_count": 14,
   "id": "4cb11a3b-389d-4725-ba15-5f808fcb9d10",
   "metadata": {},
   "outputs": [
    {
     "name": "stdout",
     "output_type": "stream",
     "text": [
      "Return the number of items in a container.\n"
     ]
    }
   ],
   "source": [
    "# doc string means documentation, which appears in the first line of every module.\n",
    "print(len.__doc__)"
   ]
  },
  {
   "cell_type": "code",
   "execution_count": 15,
   "id": "6ad04e4b-d09c-4f68-9661-709f8d119e4a",
   "metadata": {},
   "outputs": [
    {
     "name": "stdout",
     "output_type": "stream",
     "text": [
      "Return a new list containing all items from the iterable in ascending order.\n",
      "\n",
      "A custom key function can be supplied to customize the sort order, and the\n",
      "reverse flag can be set to request the result in descending order.\n"
     ]
    }
   ],
   "source": [
    "print(sorted.__doc__)"
   ]
  },
  {
   "cell_type": "code",
   "execution_count": 16,
   "id": "9170f061-fff9-4c7b-92ef-e2f699cebda1",
   "metadata": {},
   "outputs": [
    {
     "name": "stdout",
     "output_type": "stream",
     "text": [
      "map(func, *iterables) --> map object\n",
      "\n",
      "Make an iterator that computes the function using arguments from\n",
      "each of the iterables.  Stops when the shortest iterable is exhausted.\n"
     ]
    }
   ],
   "source": [
    "print(map.__doc__)"
   ]
  },
  {
   "cell_type": "markdown",
   "id": "bb14a6b2-028c-4324-a38e-bfc70c3ac9b6",
   "metadata": {},
   "source": [
    "**8. Write a Python program that prints the calendar for a given month and year.\n",
    "Note : Use 'calendar' module.**"
   ]
  },
  {
   "cell_type": "code",
   "execution_count": 18,
   "id": "268c27c8-70d4-4482-b9c5-6b9cebb314e1",
   "metadata": {},
   "outputs": [],
   "source": [
    "import calendar"
   ]
  },
  {
   "cell_type": "code",
   "execution_count": 19,
   "id": "0aa01813-ec07-43c6-a0ee-9ff08e6d8fec",
   "metadata": {},
   "outputs": [
    {
     "name": "stdout",
     "output_type": "stream",
     "text": [
      "Calendar printing functions\n",
      "\n",
      "Note when comparing these calendars to the ones printed by cal(1): By\n",
      "default, these calendars have Monday as the first day of the week, and\n",
      "Sunday as the last (the European convention). Use setfirstweekday() to\n",
      "set the first day of the week (0=Monday, 6=Sunday).\n"
     ]
    }
   ],
   "source": [
    "print(calendar.__doc__)"
   ]
  },
  {
   "cell_type": "code",
   "execution_count": 21,
   "id": "788560c4-e721-4edc-bf67-3f7a52ee2b5c",
   "metadata": {},
   "outputs": [
    {
     "data": {
      "text/plain": [
       "['APRIL',\n",
       " 'AUGUST',\n",
       " 'Calendar',\n",
       " 'DECEMBER',\n",
       " 'Day',\n",
       " 'EPOCH',\n",
       " 'FEBRUARY',\n",
       " 'FRIDAY',\n",
       " 'HTMLCalendar',\n",
       " 'IllegalMonthError',\n",
       " 'IllegalWeekdayError',\n",
       " 'IntEnum',\n",
       " 'JANUARY',\n",
       " 'JULY',\n",
       " 'JUNE',\n",
       " 'LocaleHTMLCalendar',\n",
       " 'LocaleTextCalendar',\n",
       " 'MARCH',\n",
       " 'MAY',\n",
       " 'MONDAY',\n",
       " 'Month',\n",
       " 'NOVEMBER',\n",
       " 'OCTOBER',\n",
       " 'SATURDAY',\n",
       " 'SEPTEMBER',\n",
       " 'SUNDAY',\n",
       " 'THURSDAY',\n",
       " 'TUESDAY',\n",
       " 'TextCalendar',\n",
       " 'WEDNESDAY',\n",
       " '_EPOCH_ORD',\n",
       " '__all__',\n",
       " '__builtins__',\n",
       " '__cached__',\n",
       " '__doc__',\n",
       " '__file__',\n",
       " '__getattr__',\n",
       " '__loader__',\n",
       " '__name__',\n",
       " '__package__',\n",
       " '__spec__',\n",
       " '_colwidth',\n",
       " '_get_default_locale',\n",
       " '_locale',\n",
       " '_localized_day',\n",
       " '_localized_month',\n",
       " '_monthlen',\n",
       " '_nextmonth',\n",
       " '_prevmonth',\n",
       " '_spacing',\n",
       " 'c',\n",
       " 'calendar',\n",
       " 'datetime',\n",
       " 'day_abbr',\n",
       " 'day_name',\n",
       " 'different_locale',\n",
       " 'error',\n",
       " 'firstweekday',\n",
       " 'format',\n",
       " 'formatstring',\n",
       " 'global_enum',\n",
       " 'isleap',\n",
       " 'leapdays',\n",
       " 'main',\n",
       " 'mdays',\n",
       " 'month',\n",
       " 'month_abbr',\n",
       " 'month_name',\n",
       " 'monthcalendar',\n",
       " 'monthrange',\n",
       " 'prcal',\n",
       " 'prmonth',\n",
       " 'prweek',\n",
       " 'repeat',\n",
       " 'setfirstweekday',\n",
       " 'sys',\n",
       " 'timegm',\n",
       " 'warnings',\n",
       " 'week',\n",
       " 'weekday',\n",
       " 'weekheader']"
      ]
     },
     "execution_count": 21,
     "metadata": {},
     "output_type": "execute_result"
    }
   ],
   "source": [
    "dir(calendar)"
   ]
  },
  {
   "cell_type": "code",
   "execution_count": 33,
   "id": "3305ecf7-ced5-46a0-a5fb-899041738fea",
   "metadata": {},
   "outputs": [
    {
     "data": {
      "text/plain": [
       "\u001b[1;31mSignature:\u001b[0m \u001b[0mcalendar\u001b[0m\u001b[1;33m.\u001b[0m\u001b[0mmonthcalendar\u001b[0m\u001b[1;33m(\u001b[0m\u001b[0myear\u001b[0m\u001b[1;33m,\u001b[0m \u001b[0mmonth\u001b[0m\u001b[1;33m)\u001b[0m\u001b[1;33m\u001b[0m\u001b[1;33m\u001b[0m\u001b[0m\n",
       "\u001b[1;31mDocstring:\u001b[0m\n",
       "Return a matrix representing a month's calendar.\n",
       "Each row represents a week; days outside this month are zero.\n",
       "\u001b[1;31mFile:\u001b[0m      c:\\users\\hp\\appdata\\local\\programs\\python\\python312\\lib\\calendar.py\n",
       "\u001b[1;31mType:\u001b[0m      method"
      ]
     },
     "metadata": {},
     "output_type": "display_data"
    }
   ],
   "source": [
    "calendar.monthcalendar?"
   ]
  },
  {
   "cell_type": "code",
   "execution_count": 40,
   "id": "2a51974f-960c-4daa-aaa5-6ebe451a100b",
   "metadata": {},
   "outputs": [
    {
     "name": "stdout",
     "output_type": "stream",
     "text": [
      "[[0, 0, 0, 1, 2, 3, 4], [5, 6, 7, 8, 9, 10, 11], [12, 13, 14, 15, 16, 17, 18], [19, 20, 21, 22, 23, 24, 25], [26, 27, 28, 29, 30, 31, 0]]\n"
     ]
    }
   ],
   "source": [
    "year = 2024\n",
    "month = 8\n",
    "print(calendar.monthcalendar(year,month))"
   ]
  },
  {
   "cell_type": "code",
   "execution_count": 41,
   "id": "808b5f0b-d127-4895-90ff-6b073248a8bd",
   "metadata": {},
   "outputs": [
    {
     "name": "stdout",
     "output_type": "stream",
     "text": [
      "    August 2024\n",
      "Mo Tu We Th Fr Sa Su\n",
      "          1  2  3  4\n",
      " 5  6  7  8  9 10 11\n",
      "12 13 14 15 16 17 18\n",
      "19 20 21 22 23 24 25\n",
      "26 27 28 29 30 31\n",
      "\n"
     ]
    }
   ],
   "source": [
    "print(calendar.month(year, month))"
   ]
  },
  {
   "cell_type": "markdown",
   "id": "5c1db68e-0212-4868-9dda-3497b6266544",
   "metadata": {},
   "source": [
    "**9. Write a Python program to count the number 4 in a given list.**"
   ]
  },
  {
   "cell_type": "code",
   "execution_count": 42,
   "id": "49406216-44ef-4ec6-b4e8-8c34bdb1c4ab",
   "metadata": {},
   "outputs": [
    {
     "name": "stdout",
     "output_type": "stream",
     "text": [
      "2\n"
     ]
    }
   ],
   "source": [
    "lst = [1,2,3,4,5,6,5,4,3,3,2]\n",
    "print(lst.count(4))"
   ]
  },
  {
   "cell_type": "markdown",
   "id": "50cd1def-cfab-4c72-91c9-595befc1f76c",
   "metadata": {},
   "source": [
    "## Conditional statements and loops"
   ]
  },
  {
   "cell_type": "markdown",
   "id": "d5faba74-bced-409d-9f92-125a872feaeb",
   "metadata": {},
   "source": [
    "**Write a Python program to find those numbers which are divisible by 7 and multiples of 5, between 1500 and 2700 (both included).**"
   ]
  },
  {
   "cell_type": "code",
   "execution_count": 47,
   "id": "b6652048-f3be-4b19-a070-6b346b1353b2",
   "metadata": {},
   "outputs": [
    {
     "name": "stdout",
     "output_type": "stream",
     "text": [
      "1505 1540 1575 1610 1645 1680 1715 1750 1785 1820 1855 1890 1925 1960 1995 2030 2065 2100 2135 2170 2205 2240 2275 2310 2345 2380 2415 2450 2485 2520 2555 2590 2625 2660 2695 "
     ]
    }
   ],
   "source": [
    "for i in range(1500,2701):\n",
    "    if i % 7== 0 and i % 5 == 0:\n",
    "        print(i,end = \" \")\n",
    "    else:\n",
    "        continue\n",
    "        "
   ]
  },
  {
   "cell_type": "markdown",
   "id": "8789f676-a428-4bbc-8582-59cff45c185e",
   "metadata": {},
   "source": [
    "**4. Write a Python program to construct the following pattern, using a nested for loop.**"
   ]
  },
  {
   "cell_type": "code",
   "execution_count": 73,
   "id": "f1100d56-a9ad-4562-8cab-594a8dfab712",
   "metadata": {},
   "outputs": [],
   "source": [
    "def malai(n):\n",
    "    for i in range(n):\n",
    "        for j in range(i+1):\n",
    "            print(\"*\", end = \" \")\n",
    "        print()\n",
    "    for i in range(n):\n",
    "        for j in range(n-i):\n",
    "            print(\"*\", end = \" \")\n",
    "        print()"
   ]
  },
  {
   "cell_type": "code",
   "execution_count": 74,
   "id": "84f676fe-0487-4c79-aaad-a414bfc473d9",
   "metadata": {},
   "outputs": [
    {
     "name": "stdout",
     "output_type": "stream",
     "text": [
      "* \n",
      "* * \n",
      "* * * \n",
      "* * * * \n",
      "* * * * * \n",
      "* * * * * * \n",
      "* * * * * * \n",
      "* * * * * \n",
      "* * * * \n",
      "* * * \n",
      "* * \n",
      "* \n"
     ]
    }
   ],
   "source": [
    "malai(6)"
   ]
  },
  {
   "cell_type": "code",
   "execution_count": 75,
   "id": "6ad20c38-1740-49b0-b8bb-87c556af1b6a",
   "metadata": {},
   "outputs": [],
   "source": [
    "def padhimalai(n):\n",
    "    for i in range(n//2):\n",
    "        for j in range(i+1):\n",
    "            print(\"*\", end = \" \")\n",
    "        print()\n",
    "    for i in range(n//2,n):\n",
    "        for j in range(n-i):\n",
    "            print(\"*\", end = \" \")\n",
    "        print()"
   ]
  },
  {
   "cell_type": "code",
   "execution_count": 76,
   "id": "25cddba0-3a49-4842-b569-bc8aa395a098",
   "metadata": {},
   "outputs": [
    {
     "name": "stdout",
     "output_type": "stream",
     "text": [
      "* \n",
      "* * \n",
      "* * * \n",
      "* * * \n",
      "* * \n",
      "* \n",
      "None\n"
     ]
    }
   ],
   "source": [
    "print(padhimalai(6))"
   ]
  },
  {
   "cell_type": "code",
   "execution_count": 78,
   "id": "30d52ac8-ce6a-4a6c-ab7f-645df991ef45",
   "metadata": {},
   "outputs": [
    {
     "name": "stdout",
     "output_type": "stream",
     "text": [
      "* \n",
      "* * \n",
      "* * * \n",
      "* * * * \n",
      "* * * * * \n",
      "* * * * \n",
      "* * * \n",
      "* * \n",
      "* \n"
     ]
    }
   ],
   "source": [
    "padhimalai(9)"
   ]
  },
  {
   "cell_type": "code",
   "execution_count": 79,
   "id": "7760c9c6-96e6-49d3-9bd3-fb30ac59c34e",
   "metadata": {},
   "outputs": [
    {
     "name": "stdout",
     "output_type": "stream",
     "text": [
      "* \n",
      "* * \n",
      "* * * \n",
      "* * * * \n",
      "* * * * * \n",
      "* * * * * * \n",
      "* * * * * * * \n",
      "* * * * * * * * \n",
      "* * * * * * * * * \n",
      "* * * * * * * * * \n",
      "* * * * * * * * \n",
      "* * * * * * * \n",
      "* * * * * * \n",
      "* * * * * \n",
      "* * * * \n",
      "* * * \n",
      "* * \n",
      "* \n",
      "None\n"
     ]
    }
   ],
   "source": [
    "print(malai(9))"
   ]
  },
  {
   "cell_type": "markdown",
   "id": "f69c89af-2fef-43f8-8456-a655f79469bd",
   "metadata": {},
   "source": [
    "**5. Write a Python program that accepts a word from the user and reverses it.**"
   ]
  },
  {
   "cell_type": "code",
   "execution_count": 7,
   "id": "e0a87edc-ed16-4cee-b864-10ac1cd21472",
   "metadata": {},
   "outputs": [
    {
     "name": "stdin",
     "output_type": "stream",
     "text": [
      "enter the word  Hi I am theodore\n"
     ]
    },
    {
     "name": "stdout",
     "output_type": "stream",
     "text": [
      "['theodore', 'am', 'I', 'Hi']\n"
     ]
    }
   ],
   "source": [
    "word = input(\"enter the word \")\n",
    "result = word.split()\n",
    "result2 = result[-1::-1]\n",
    "print(result2)\n",
    "    \n",
    "    "
   ]
  },
  {
   "cell_type": "code",
   "execution_count": 86,
   "id": "0b17cf37-0d7c-463e-b4b6-eacdc1b9c240",
   "metadata": {},
   "outputs": [
    {
     "data": {
      "text/plain": [
       "['__add__',\n",
       " '__class__',\n",
       " '__contains__',\n",
       " '__delattr__',\n",
       " '__dir__',\n",
       " '__doc__',\n",
       " '__eq__',\n",
       " '__format__',\n",
       " '__ge__',\n",
       " '__getattribute__',\n",
       " '__getitem__',\n",
       " '__getnewargs__',\n",
       " '__getstate__',\n",
       " '__gt__',\n",
       " '__hash__',\n",
       " '__init__',\n",
       " '__init_subclass__',\n",
       " '__iter__',\n",
       " '__le__',\n",
       " '__len__',\n",
       " '__lt__',\n",
       " '__mod__',\n",
       " '__mul__',\n",
       " '__ne__',\n",
       " '__new__',\n",
       " '__reduce__',\n",
       " '__reduce_ex__',\n",
       " '__repr__',\n",
       " '__rmod__',\n",
       " '__rmul__',\n",
       " '__setattr__',\n",
       " '__sizeof__',\n",
       " '__str__',\n",
       " '__subclasshook__',\n",
       " 'capitalize',\n",
       " 'casefold',\n",
       " 'center',\n",
       " 'count',\n",
       " 'encode',\n",
       " 'endswith',\n",
       " 'expandtabs',\n",
       " 'find',\n",
       " 'format',\n",
       " 'format_map',\n",
       " 'index',\n",
       " 'isalnum',\n",
       " 'isalpha',\n",
       " 'isascii',\n",
       " 'isdecimal',\n",
       " 'isdigit',\n",
       " 'isidentifier',\n",
       " 'islower',\n",
       " 'isnumeric',\n",
       " 'isprintable',\n",
       " 'isspace',\n",
       " 'istitle',\n",
       " 'isupper',\n",
       " 'join',\n",
       " 'ljust',\n",
       " 'lower',\n",
       " 'lstrip',\n",
       " 'maketrans',\n",
       " 'partition',\n",
       " 'removeprefix',\n",
       " 'removesuffix',\n",
       " 'replace',\n",
       " 'rfind',\n",
       " 'rindex',\n",
       " 'rjust',\n",
       " 'rpartition',\n",
       " 'rsplit',\n",
       " 'rstrip',\n",
       " 'split',\n",
       " 'splitlines',\n",
       " 'startswith',\n",
       " 'strip',\n",
       " 'swapcase',\n",
       " 'title',\n",
       " 'translate',\n",
       " 'upper',\n",
       " 'zfill']"
      ]
     },
     "execution_count": 86,
     "metadata": {},
     "output_type": "execute_result"
    }
   ],
   "source": [
    "dir(str)"
   ]
  },
  {
   "cell_type": "markdown",
   "id": "deeadc01-1241-4553-9fe3-3ac1defafa89",
   "metadata": {},
   "source": [
    "## Filter ()"
   ]
  },
  {
   "cell_type": "markdown",
   "id": "30451a86-1efb-4293-ab5e-b6465f5baee1",
   "metadata": {},
   "source": [
    "**Write a Python function that filters out elements from a list of strings containing a specific substring using the filter function.**"
   ]
  },
  {
   "cell_type": "code",
   "execution_count": 1,
   "id": "0e73effc-40f5-4ad7-b766-e2fe4a3aa909",
   "metadata": {},
   "outputs": [
    {
     "name": "stdout",
     "output_type": "stream",
     "text": [
      "['Hillary', 'Henry']\n"
     ]
    }
   ],
   "source": [
    "string = [\"Hillary\", \"Judson\", \"Alfred\", \"Henry\", \"Akash\", \"Berrin\"]\n",
    "result = filter(lambda x:x.startswith(\"H\"), string)\n",
    "print(list(result))"
   ]
  },
  {
   "cell_type": "markdown",
   "id": "05aad86e-3964-4920-96c8-c2a446c33cba",
   "metadata": {},
   "source": [
    "**Write a Python program that creates a list of tuples, each containing a city name and its population. Use the filter function to extract cities with a population greater than certain value**"
   ]
  },
  {
   "cell_type": "code",
   "execution_count": 7,
   "id": "21b9ee64-082a-4466-9a80-43365343e830",
   "metadata": {},
   "outputs": [
    {
     "name": "stdout",
     "output_type": "stream",
     "text": [
      "[('Mumbai', 21673000), ('Delhi', 33807000)]\n"
     ]
    }
   ],
   "source": [
    "Population = [(\"chennai\",12054000),(\"Hyderabad\",11069000),(\"Bangalore\",14008000),(\"Mumbai\",21673000),(\"Delhi\",33807000)]\n",
    "\n",
    "result = filter(lambda x : x[1]>15000000, Population)\n",
    "print(list(result))            "
   ]
  },
  {
   "cell_type": "markdown",
   "id": "0ff27bb1-8fae-4d95-8340-598c4429d5ea",
   "metadata": {},
   "source": [
    "**Write a Python program that creates a list of words and use the filter function to extract words that contain more than five letters.**"
   ]
  },
  {
   "cell_type": "code",
   "execution_count": 8,
   "id": "4acdf61f-0c51-43d2-873c-65c3406141df",
   "metadata": {},
   "outputs": [
    {
     "name": "stdout",
     "output_type": "stream",
     "text": [
      "['Hillary', 'Judson', 'Alfred', 'Berrin']\n"
     ]
    }
   ],
   "source": [
    "string = [\"Hillary\", \"Judson\", \"Alfred\", \"Henry\", \"Akash\", \"Berrin\"]\n",
    "\n",
    "print(list(filter(lambda x : len(x)>5, string)))"
   ]
  },
  {
   "cell_type": "code",
   "execution_count": 16,
   "id": "6d25c939-c2dc-4324-98cc-c3d51b8a5db9",
   "metadata": {},
   "outputs": [
    {
     "name": "stdout",
     "output_type": "stream",
     "text": [
      "1\n"
     ]
    }
   ],
   "source": [
    "List = [1,2,3,1,1,2]\n",
    "def most_frequent(List):\n",
    "    dict= {}\n",
    "    count, result = 0, \" \"\n",
    "    for item in reversed(List):\n",
    "        dict[item] = dict.get(item,0) + 1\n",
    "        if dict[item] >= count:\n",
    "            count, result = dict[item] , item\n",
    "    return(result)\n",
    "print(most_frequent(List))"
   ]
  },
  {
   "cell_type": "code",
   "execution_count": 17,
   "id": "ba9781e3-c289-4990-897f-2d8a22831153",
   "metadata": {},
   "outputs": [
    {
     "data": {
      "text/plain": [
       "3"
      ]
     },
     "execution_count": 17,
     "metadata": {},
     "output_type": "execute_result"
    }
   ],
   "source": [
    "dict[item]"
   ]
  },
  {
   "cell_type": "code",
   "execution_count": 20,
   "id": "4b82a43b-a6bc-434b-82ae-b146f6b51b33",
   "metadata": {},
   "outputs": [
    {
     "data": {
      "text/plain": [
       "['__class__',\n",
       " '__class_getitem__',\n",
       " '__contains__',\n",
       " '__delattr__',\n",
       " '__delitem__',\n",
       " '__dir__',\n",
       " '__doc__',\n",
       " '__eq__',\n",
       " '__format__',\n",
       " '__ge__',\n",
       " '__getattribute__',\n",
       " '__getitem__',\n",
       " '__getstate__',\n",
       " '__gt__',\n",
       " '__hash__',\n",
       " '__init__',\n",
       " '__init_subclass__',\n",
       " '__ior__',\n",
       " '__iter__',\n",
       " '__le__',\n",
       " '__len__',\n",
       " '__lt__',\n",
       " '__ne__',\n",
       " '__new__',\n",
       " '__or__',\n",
       " '__reduce__',\n",
       " '__reduce_ex__',\n",
       " '__repr__',\n",
       " '__reversed__',\n",
       " '__ror__',\n",
       " '__setattr__',\n",
       " '__setitem__',\n",
       " '__sizeof__',\n",
       " '__str__',\n",
       " '__subclasshook__',\n",
       " 'clear',\n",
       " 'copy',\n",
       " 'fromkeys',\n",
       " 'get',\n",
       " 'items',\n",
       " 'keys',\n",
       " 'pop',\n",
       " 'popitem',\n",
       " 'setdefault',\n",
       " 'update',\n",
       " 'values']"
      ]
     },
     "execution_count": 20,
     "metadata": {},
     "output_type": "execute_result"
    }
   ],
   "source": [
    "dir(dict)"
   ]
  },
  {
   "cell_type": "code",
   "execution_count": 29,
   "id": "fae8ae95-c471-43d3-a37b-3a97bebfafbd",
   "metadata": {},
   "outputs": [
    {
     "data": {
      "text/plain": [
       "\u001b[1;31mSignature:\u001b[0m \u001b[0mdict\u001b[0m\u001b[1;33m.\u001b[0m\u001b[0mget\u001b[0m\u001b[1;33m(\u001b[0m\u001b[0mkey\u001b[0m\u001b[1;33m,\u001b[0m \u001b[0mdefault\u001b[0m\u001b[1;33m=\u001b[0m\u001b[1;32mNone\u001b[0m\u001b[1;33m,\u001b[0m \u001b[1;33m/\u001b[0m\u001b[1;33m)\u001b[0m\u001b[1;33m\u001b[0m\u001b[1;33m\u001b[0m\u001b[0m\n",
       "\u001b[1;31mDocstring:\u001b[0m Return the value for key if key is in the dictionary, else default.\n",
       "\u001b[1;31mType:\u001b[0m      builtin_function_or_method"
      ]
     },
     "metadata": {},
     "output_type": "display_data"
    }
   ],
   "source": [
    "dict.get?"
   ]
  },
  {
   "cell_type": "code",
   "execution_count": 30,
   "id": "45064415-05f5-440a-bec6-247a70f14817",
   "metadata": {},
   "outputs": [
    {
     "ename": "TypeError",
     "evalue": "list.count() takes exactly one argument (0 given)",
     "output_type": "error",
     "traceback": [
      "\u001b[1;31m---------------------------------------------------------------------------\u001b[0m",
      "\u001b[1;31mTypeError\u001b[0m                                 Traceback (most recent call last)",
      "Cell \u001b[1;32mIn[30], line 4\u001b[0m\n\u001b[0;32m      2\u001b[0m \u001b[38;5;28;01mdef\u001b[39;00m \u001b[38;5;21mmost_frequent\u001b[39m(List):\n\u001b[0;32m      3\u001b[0m     result \u001b[38;5;241m=\u001b[39m \u001b[38;5;28mmax\u001b[39m(\u001b[38;5;28mset\u001b[39m(List), keys\u001b[38;5;241m=\u001b[39m List\u001b[38;5;241m.\u001b[39mcount())\n\u001b[1;32m----> 4\u001b[0m \u001b[38;5;28mprint\u001b[39m(\u001b[43mmost_frequent\u001b[49m\u001b[43m(\u001b[49m\u001b[43mList\u001b[49m\u001b[43m)\u001b[49m)\n",
      "Cell \u001b[1;32mIn[30], line 3\u001b[0m, in \u001b[0;36mmost_frequent\u001b[1;34m(List)\u001b[0m\n\u001b[0;32m      2\u001b[0m \u001b[38;5;28;01mdef\u001b[39;00m \u001b[38;5;21mmost_frequent\u001b[39m(List):\n\u001b[1;32m----> 3\u001b[0m     result \u001b[38;5;241m=\u001b[39m \u001b[38;5;28mmax\u001b[39m(\u001b[38;5;28mset\u001b[39m(List), keys\u001b[38;5;241m=\u001b[39m \u001b[43mList\u001b[49m\u001b[38;5;241;43m.\u001b[39;49m\u001b[43mcount\u001b[49m\u001b[43m(\u001b[49m\u001b[43m)\u001b[49m)\n",
      "\u001b[1;31mTypeError\u001b[0m: list.count() takes exactly one argument (0 given)"
     ]
    }
   ],
   "source": [
    "List = [1,2,3,1,1,2]\n",
    "def most_frequent(List):\n",
    "    result = max(set(List), keys= List.count())\n",
    "print(most_frequent(List))"
   ]
  },
  {
   "cell_type": "code",
   "execution_count": 31,
   "id": "85d9b016-2b09-4d3d-993e-ceb1e3eedb76",
   "metadata": {},
   "outputs": [
    {
     "data": {
      "text/plain": [
       "\u001b[1;31mDocstring:\u001b[0m\n",
       "max(iterable, *[, default=obj, key=func]) -> value\n",
       "max(arg1, arg2, *args, *[, key=func]) -> value\n",
       "\n",
       "With a single iterable argument, return its biggest item. The\n",
       "default keyword-only argument specifies an object to return if\n",
       "the provided iterable is empty.\n",
       "With two or more arguments, return the largest argument.\n",
       "\u001b[1;31mType:\u001b[0m      builtin_function_or_method"
      ]
     },
     "metadata": {},
     "output_type": "display_data"
    }
   ],
   "source": [
    "max?"
   ]
  },
  {
   "cell_type": "markdown",
   "id": "6063bb9a-8519-460a-885c-b2744c1f4516",
   "metadata": {},
   "source": [
    "## Finding the most frequent number"
   ]
  },
  {
   "cell_type": "code",
   "execution_count": 34,
   "id": "7f40e9b0-0924-4219-9667-16b233cfe262",
   "metadata": {},
   "outputs": [],
   "source": [
    "def most_frequent(arr):\n",
    "    # YOUR CODE GOES HERE\n",
    "    temp = 0\n",
    "    count = 0\n",
    "    for i in range(len(arr)):\n",
    "        temp = arr.count(arr[i])\n",
    "\n",
    "        if temp > count:\n",
    "            count = temp\n",
    "            index = i\n",
    "    return arr[i]"
   ]
  },
  {
   "cell_type": "code",
   "execution_count": 35,
   "id": "223acf20-53de-456f-9bc6-795dd84a90ba",
   "metadata": {},
   "outputs": [],
   "source": [
    "lst = [23,44,332,22,34,54,66,75,23]"
   ]
  },
  {
   "cell_type": "code",
   "execution_count": 36,
   "id": "ecd33771-4b42-492d-918d-b79776637c93",
   "metadata": {},
   "outputs": [
    {
     "data": {
      "text/plain": [
       "23"
      ]
     },
     "execution_count": 36,
     "metadata": {},
     "output_type": "execute_result"
    }
   ],
   "source": [
    "most_frequent(lst)"
   ]
  },
  {
   "cell_type": "markdown",
   "id": "c71b30e3-7e9c-41ad-b808-5ece3ceb41e2",
   "metadata": {},
   "source": [
    "## Finding number of words that has unique letters in it"
   ]
  },
  {
   "cell_type": "code",
   "execution_count": 39,
   "id": "d4823e8b-f265-4a53-90b1-a1fd3dc79427",
   "metadata": {},
   "outputs": [],
   "source": [
    "word = \"who the hell is alfred\""
   ]
  },
  {
   "cell_type": "code",
   "execution_count": 38,
   "id": "8f2655ce-b34f-4652-a03f-2441e3d707bb",
   "metadata": {},
   "outputs": [
    {
     "data": {
      "text/plain": [
       "22"
      ]
     },
     "execution_count": 38,
     "metadata": {},
     "output_type": "execute_result"
    }
   ],
   "source": [
    "len(word)"
   ]
  },
  {
   "cell_type": "code",
   "execution_count": 41,
   "id": "642d798f-389e-4722-99da-f8406225a073",
   "metadata": {},
   "outputs": [
    {
     "name": "stdout",
     "output_type": "stream",
     "text": [
      "{'i', 'w', ' ', 'l', 'f', 't', 'h', 's', 'r', 'd', 'a', 'e', 'o'}\n",
      "13\n"
     ]
    }
   ],
   "source": [
    "print(set(word))\n",
    "print(len(set(word)))"
   ]
  },
  {
   "cell_type": "code",
   "execution_count": 44,
   "id": "71a11785-91a2-4ea4-adc2-07280f3c32ff",
   "metadata": {},
   "outputs": [],
   "source": [
    "def unique_words(arr):\n",
    "    count = 0\n",
    "    word = arr.split()\n",
    "    for i in word:\n",
    "        if len(set(i)) == len(i) > 3:\n",
    "            count += 1\n",
    "    return count"
   ]
  },
  {
   "cell_type": "code",
   "execution_count": 45,
   "id": "be0cffcb-c228-4bae-b759-ba1101536988",
   "metadata": {},
   "outputs": [
    {
     "name": "stdout",
     "output_type": "stream",
     "text": [
      "1\n"
     ]
    }
   ],
   "source": [
    "word = \"who the hell is alfred\"\n",
    "print(unique_words(word))"
   ]
  },
  {
   "cell_type": "code",
   "execution_count": 46,
   "id": "b879ca89-e76c-4375-a570-8ccef1359aa3",
   "metadata": {},
   "outputs": [
    {
     "name": "stdout",
     "output_type": "stream",
     "text": [
      "4\n"
     ]
    }
   ],
   "source": [
    "Bible = \"The lord is my sherpard and I shall not want He makes me lie down in green pastures\"\n",
    "print(unique_words(Bible))"
   ]
  },
  {
   "cell_type": "markdown",
   "id": "6c7f405c-1331-498d-8fcf-3bff1bfbf7a9",
   "metadata": {},
   "source": [
    "## Complete the function check_equal() to return whether the given two strings are the same or not if you are allowed to:"
   ]
  },
  {
   "cell_type": "code",
   "execution_count": null,
   "id": "d0a8a96d-e9d0-4d98-b31c-b06182f43db8",
   "metadata": {},
   "outputs": [],
   "source": []
  },
  {
   "cell_type": "code",
   "execution_count": 8,
   "id": "7742c385-def6-4913-871e-0127baba5a8f",
   "metadata": {},
   "outputs": [],
   "source": [
    "def checkequal(str1,str2):\n",
    "    if len(str1) != len(str2):\n",
    "        return \"Not Same\"\n",
    "    n = len(str2)\n",
    "    strlist = list(str2)\n",
    "\n",
    "    for _ in range(n):\n",
    "        if \"\".join(strlist) == str1:\n",
    "            return \"Same\"\n",
    "\n",
    "        shift_str = strlist.pop(0)\n",
    "        strlist.append(shift_str)\n",
    "    return \"Not same\"\n",
    "        "
   ]
  },
  {
   "cell_type": "code",
   "execution_count": 9,
   "id": "023054a0-1d2b-4acd-83d7-b5fe155a2527",
   "metadata": {},
   "outputs": [
    {
     "data": {
      "text/plain": [
       "'Same'"
      ]
     },
     "execution_count": 9,
     "metadata": {},
     "output_type": "execute_result"
    }
   ],
   "source": [
    "checkequal(\"Hillary\",\"illaryH\")"
   ]
  },
  {
   "cell_type": "code",
   "execution_count": 10,
   "id": "a931df2c-6737-4781-a7c9-b8a482eff540",
   "metadata": {},
   "outputs": [
    {
     "data": {
      "text/plain": [
       "'Same'"
      ]
     },
     "execution_count": 10,
     "metadata": {},
     "output_type": "execute_result"
    }
   ],
   "source": [
    "checkequal(\"Jackson\",\"sonJack\")"
   ]
  },
  {
   "cell_type": "code",
   "execution_count": 11,
   "id": "17530813-cb98-490b-872d-5604e470ed86",
   "metadata": {},
   "outputs": [
    {
     "data": {
      "text/plain": [
       "'Not same'"
      ]
     },
     "execution_count": 11,
     "metadata": {},
     "output_type": "execute_result"
    }
   ],
   "source": [
    "checkequal(\"Hillary\",\"illaryh\")"
   ]
  },
  {
   "cell_type": "markdown",
   "id": "851f32e0-37ef-49ee-91d9-41c26c830751",
   "metadata": {},
   "source": [
    "### Sorting practice"
   ]
  },
  {
   "cell_type": "code",
   "execution_count": 3,
   "id": "81a34e53-0918-45e6-bdca-807c527063e5",
   "metadata": {},
   "outputs": [],
   "source": [
    "def insertionsort(arr):\n",
    "    for j in range(1,len(arr)):\n",
    "        key = arr[j]\n",
    "        i = j-1\n",
    "        while i>=0 and arr[i]>key:\n",
    "            arr[i+1] = arr[i]\n",
    "            i = i-1\n",
    "        arr[i+1] = key\n",
    "    return arr"
   ]
  },
  {
   "cell_type": "code",
   "execution_count": 4,
   "id": "d97fd927-2d9b-4e3f-9572-e2e6b98420da",
   "metadata": {},
   "outputs": [
    {
     "name": "stdout",
     "output_type": "stream",
     "text": [
      "[1, 2, 3, 4, 5, 5, 7, 9]\n"
     ]
    }
   ],
   "source": [
    "lst = [1,2,3,4,5,9,7,5]\n",
    "print(insertionsort(lst))"
   ]
  },
  {
   "cell_type": "code",
   "execution_count": 44,
   "id": "146e12b5-ee64-4967-b368-ba783c842656",
   "metadata": {},
   "outputs": [],
   "source": [
    "def bubblesort(arr):\n",
    "    for i in range(len(arr)):\n",
    "        for j in range(len(arr)-i-1):\n",
    "            if arr[j]>arr[j+1]:\n",
    "                arr[j],arr[j+1] = arr[j+1],arr[j]\n",
    "    return arr"
   ]
  },
  {
   "cell_type": "code",
   "execution_count": 45,
   "id": "a92ca9b5-db7f-45e3-b8fc-e5d74d027206",
   "metadata": {},
   "outputs": [
    {
     "data": {
      "text/plain": [
       "[2, 3, 4, 5, 5, 7, 9, 10]"
      ]
     },
     "execution_count": 45,
     "metadata": {},
     "output_type": "execute_result"
    }
   ],
   "source": [
    "lst_2 = [10,2,3,4,5,9,7,5]\n",
    "bubblesort(lst_2)"
   ]
  },
  {
   "cell_type": "code",
   "execution_count": 54,
   "id": "b4ffa47e-1ebe-48b4-98cf-cbf311da5133",
   "metadata": {},
   "outputs": [],
   "source": [
    "def selectionsort(arr):\n",
    "    for i in range(len(arr)):\n",
    "        min_index = i\n",
    "        for j in range(i+1,len(arr)):\n",
    "            if arr[min_index]>arr[j]:\n",
    "                min_index = j\n",
    "        arr[i],arr[min_index] = arr[min_index],arr[i]\n",
    "    return arr"
   ]
  },
  {
   "cell_type": "code",
   "execution_count": 55,
   "id": "fdf5744f-e11f-48ee-a50f-6aafb6a13a26",
   "metadata": {},
   "outputs": [
    {
     "data": {
      "text/plain": [
       "[2, 3, 4, 5, 5, 7, 9, 10]"
      ]
     },
     "execution_count": 55,
     "metadata": {},
     "output_type": "execute_result"
    }
   ],
   "source": [
    "lst_2 = [10,2,3,4,5,9,7,5]\n",
    "selectionsort(lst_2)"
   ]
  },
  {
   "cell_type": "markdown",
   "id": "f64f2cb7-6b29-4d2c-b385-bf89c288cbaa",
   "metadata": {},
   "source": [
    "## Enumerate"
   ]
  },
  {
   "cell_type": "code",
   "execution_count": 1,
   "id": "afd707f7-3137-463e-adcd-37f09e17e4a3",
   "metadata": {},
   "outputs": [
    {
     "name": "stdout",
     "output_type": "stream",
     "text": [
      "(0, 'apple')\n",
      "(1, 'orange')\n",
      "(2, 'banana')\n",
      "(3, 'pineapple')\n",
      "(4, 'pear')\n"
     ]
    }
   ],
   "source": [
    "lst = ['apple','orange','banana','pineapple','pear']\n",
    "for i in enumerate(lst):\n",
    "    print(i)"
   ]
  },
  {
   "cell_type": "code",
   "execution_count": 2,
   "id": "176b7b74-2e01-447b-95e0-86ba7e694b11",
   "metadata": {},
   "outputs": [
    {
     "name": "stdout",
     "output_type": "stream",
     "text": [
      "100 apple\n",
      "200\n",
      "101 orange\n",
      "202\n",
      "102 banana\n",
      "204\n",
      "103 pineapple\n",
      "206\n",
      "104 pear\n",
      "208\n"
     ]
    }
   ],
   "source": [
    "lst2 = ['apple','orange','banana','pineapple','pear']\n",
    "for i,value in enumerate(lst2,100):\n",
    "    print(i,value)\n",
    "    print(i*2)"
   ]
  },
  {
   "cell_type": "markdown",
   "id": "dbf12366-cfed-4838-ba88-bad7e19e245e",
   "metadata": {},
   "source": [
    "**Write a Python program that iterates over an enum class and displays each member and their value.**"
   ]
  },
  {
   "cell_type": "code",
   "execution_count": 3,
   "id": "dcd142f3-8244-46af-943a-bcdb70698b93",
   "metadata": {},
   "outputs": [
    {
     "name": "stdout",
     "output_type": "stream",
     "text": [
      "Afghanistan = 90\n",
      "Albania = 89\n",
      "Algeria = 74\n",
      "Andorra = 34\n",
      "Angola = 22\n",
      "Antarctica = 12\n"
     ]
    }
   ],
   "source": [
    "Countries = ['Afghanistan', 'Albania', 'Algeria', 'Andorra', 'Angola', 'Antarctica']\n",
    "Ranking = [90,89,74,34,22,12]\n",
    "for i,(Countries, Ranking) in enumerate(zip(Countries, Ranking)):\n",
    "    print(Countries,\"=\", Ranking)"
   ]
  },
  {
   "cell_type": "code",
   "execution_count": 4,
   "id": "2181c946-83cc-4f28-b2b1-2431b808fce0",
   "metadata": {},
   "outputs": [
    {
     "name": "stdout",
     "output_type": "stream",
     "text": [
      "Afghanistan 90\n",
      "Albania 89\n",
      "Algeria 74\n"
     ]
    }
   ],
   "source": [
    "Countries = ['Afghanistan', 'Albania', 'Algeria', 'Andorra', 'Angola', 'Antarctica']\n",
    "Ranking = [90,89,74,34,22,12]\n",
    "for i,(Countries, rank) in enumerate(zip(Countries, Ranking)):\n",
    "    if rank > 50:\n",
    "        print(Countries, rank)"
   ]
  },
  {
   "cell_type": "markdown",
   "id": "e2fcc9f4-0877-4379-b6da-6c6c4a2904fd",
   "metadata": {},
   "source": [
    "# Class"
   ]
  },
  {
   "cell_type": "code",
   "execution_count": 1,
   "id": "d5c4da05-b3d6-4429-bff2-c26a364b0b84",
   "metadata": {},
   "outputs": [],
   "source": [
    "class p1:\n",
    "    def __init__(self):\n",
    "        self.name = \"this is my first class program\"\n",
    "        "
   ]
  },
  {
   "cell_type": "code",
   "execution_count": 3,
   "id": "e45708c3-70d5-46f3-88a2-48fd01076b81",
   "metadata": {},
   "outputs": [],
   "source": [
    "p = p1()"
   ]
  },
  {
   "cell_type": "code",
   "execution_count": 4,
   "id": "07fe1ee6-eedb-413d-aec3-af404e431846",
   "metadata": {},
   "outputs": [
    {
     "data": {
      "text/plain": [
       "'this is my first class program'"
      ]
     },
     "execution_count": 4,
     "metadata": {},
     "output_type": "execute_result"
    }
   ],
   "source": [
    "p.name"
   ]
  },
  {
   "cell_type": "code",
   "execution_count": 5,
   "id": "f3fce3a2-24a0-4cfb-ade5-3169418cabc7",
   "metadata": {},
   "outputs": [],
   "source": [
    "class P2:\n",
    "    def __init__(self,model,color = \" \"):\n",
    "        self.name = model   #attributes of object\n",
    "        self.color = color"
   ]
  },
  {
   "cell_type": "code",
   "execution_count": 7,
   "id": "8f459a07-8fd0-4428-ba66-44c9ac61afeb",
   "metadata": {},
   "outputs": [],
   "source": [
    "car = P2('Swift')"
   ]
  },
  {
   "cell_type": "code",
   "execution_count": 8,
   "id": "84a896fe-f543-431f-bf00-01be8119df19",
   "metadata": {},
   "outputs": [
    {
     "data": {
      "text/plain": [
       "'Swift'"
      ]
     },
     "execution_count": 8,
     "metadata": {},
     "output_type": "execute_result"
    }
   ],
   "source": [
    "car.name"
   ]
  },
  {
   "cell_type": "raw",
   "id": "0a574357-d9d4-4981-80fb-7fffa2a202b2",
   "metadata": {},
   "source": [
    "car.color"
   ]
  },
  {
   "cell_type": "code",
   "execution_count": 11,
   "id": "e1d4cdff-40c7-4897-b773-4ed9364bba10",
   "metadata": {},
   "outputs": [],
   "source": [
    "car.color = \"white\""
   ]
  },
  {
   "cell_type": "code",
   "execution_count": 12,
   "id": "a6fb8a3a-baec-4266-bc36-a8fdb62c1d99",
   "metadata": {},
   "outputs": [
    {
     "data": {
      "text/plain": [
       "'white'"
      ]
     },
     "execution_count": 12,
     "metadata": {},
     "output_type": "execute_result"
    }
   ],
   "source": [
    "car.color"
   ]
  },
  {
   "cell_type": "code",
   "execution_count": 13,
   "id": "029b8fa5-4fdd-48aa-b835-1f4677def291",
   "metadata": {},
   "outputs": [],
   "source": [
    "class P3:\n",
    "    def __init__(self,brand = \"Maruthi\", color = \"\"):\n",
    "        self.name = brand\n",
    "        self.color = input(\"enter your desired color: \")\n",
    "    def __repr__(self):\n",
    "        return \"This is a class of cars\""
   ]
  },
  {
   "cell_type": "code",
   "execution_count": 14,
   "id": "32feb13e-4e70-4a42-86b4-c2fb5c5ecdee",
   "metadata": {},
   "outputs": [
    {
     "name": "stdin",
     "output_type": "stream",
     "text": [
      "enter your desired color:  Violet\n"
     ]
    }
   ],
   "source": [
    "car = P3()"
   ]
  },
  {
   "cell_type": "code",
   "execution_count": 15,
   "id": "228616ec-3037-4de1-8f5b-ecce409a8d5f",
   "metadata": {},
   "outputs": [
    {
     "data": {
      "text/plain": [
       "'Violet'"
      ]
     },
     "execution_count": 15,
     "metadata": {},
     "output_type": "execute_result"
    }
   ],
   "source": [
    "car.color"
   ]
  },
  {
   "cell_type": "code",
   "execution_count": 16,
   "id": "351cc208-909d-4dee-b6ee-8974fe787c9a",
   "metadata": {},
   "outputs": [
    {
     "data": {
      "text/plain": [
       "This is a class of cars"
      ]
     },
     "execution_count": 16,
     "metadata": {},
     "output_type": "execute_result"
    }
   ],
   "source": [
    "car"
   ]
  },
  {
   "cell_type": "code",
   "execution_count": 24,
   "id": "cd2cf5df-0a4c-4c9e-8b6d-ee6e0edb66a7",
   "metadata": {},
   "outputs": [],
   "source": [
    "class Fruit():\n",
    "    def __init__(self,fruit_name,expiry = \"\"):   \n",
    "        self.expiry = int(input(\"Please enter the expiry value:\")) #attributes\n",
    "        self.name = fruit_name\n",
    "    def import_enquiry(self):\n",
    "        mfg = int(input(\"enter the value\"))\n",
    "        return mfg\n",
    "\n"
   ]
  },
  {
   "cell_type": "code",
   "execution_count": 25,
   "id": "74cf5497-d24f-43b8-aad9-24a1587452e6",
   "metadata": {},
   "outputs": [
    {
     "name": "stdin",
     "output_type": "stream",
     "text": [
      "Please enter the expiry value: 50\n"
     ]
    }
   ],
   "source": [
    "f = Fruit('Melon')"
   ]
  },
  {
   "cell_type": "code",
   "execution_count": 27,
   "id": "224da0d4-6a6a-499c-ac27-4b7cacda1a29",
   "metadata": {},
   "outputs": [
    {
     "name": "stdin",
     "output_type": "stream",
     "text": [
      "enter the value 30\n"
     ]
    },
    {
     "data": {
      "text/plain": [
       "30"
      ]
     },
     "execution_count": 27,
     "metadata": {},
     "output_type": "execute_result"
    }
   ],
   "source": [
    "f.import_enquiry()"
   ]
  },
  {
   "cell_type": "code",
   "execution_count": 28,
   "id": "8286347a-4f55-4f7d-9d69-34daf87566cb",
   "metadata": {},
   "outputs": [
    {
     "data": {
      "text/plain": [
       "'Melon'"
      ]
     },
     "execution_count": 28,
     "metadata": {},
     "output_type": "execute_result"
    }
   ],
   "source": [
    "f.name"
   ]
  },
  {
   "cell_type": "code",
   "execution_count": 29,
   "id": "e252d828-0b4f-4122-87c4-d0b232723e0c",
   "metadata": {},
   "outputs": [],
   "source": [
    "class Student():\n",
    "    counter = 0\n",
    "    def __init__(self,std,section):\n",
    "        Student.counter += 1 #attributes\n",
    "        self.standard = std\n",
    "        self.section = section\n",
    "        "
   ]
  },
  {
   "cell_type": "code",
   "execution_count": 30,
   "id": "402a28dc-688d-49c7-949c-bb289fdba1e7",
   "metadata": {},
   "outputs": [],
   "source": [
    "Hillary = Student('4th','c')"
   ]
  },
  {
   "cell_type": "code",
   "execution_count": 31,
   "id": "13e938ea-b000-4d9d-a37e-81c3510b4a66",
   "metadata": {},
   "outputs": [
    {
     "data": {
      "text/plain": [
       "'4th'"
      ]
     },
     "execution_count": 31,
     "metadata": {},
     "output_type": "execute_result"
    }
   ],
   "source": [
    "Hillary.standard"
   ]
  },
  {
   "cell_type": "code",
   "execution_count": 32,
   "id": "85ac9ef2-ff02-40dd-825b-e3be538928be",
   "metadata": {},
   "outputs": [
    {
     "data": {
      "text/plain": [
       "'c'"
      ]
     },
     "execution_count": 32,
     "metadata": {},
     "output_type": "execute_result"
    }
   ],
   "source": [
    "Hillary.section"
   ]
  },
  {
   "cell_type": "code",
   "execution_count": 33,
   "id": "930c32ab-b59d-4fb4-8059-a9bb1e50c599",
   "metadata": {},
   "outputs": [
    {
     "data": {
      "text/plain": [
       "1"
      ]
     },
     "execution_count": 33,
     "metadata": {},
     "output_type": "execute_result"
    }
   ],
   "source": [
    "Hillary.counter"
   ]
  },
  {
   "cell_type": "code",
   "execution_count": 34,
   "id": "f890a9df-13b6-4edd-9985-213ac82732b9",
   "metadata": {},
   "outputs": [],
   "source": [
    "Henry = Student('12th','a')"
   ]
  },
  {
   "cell_type": "code",
   "execution_count": 35,
   "id": "9c0de919-8f03-4b6c-81d4-26a5c1407322",
   "metadata": {},
   "outputs": [
    {
     "data": {
      "text/plain": [
       "2"
      ]
     },
     "execution_count": 35,
     "metadata": {},
     "output_type": "execute_result"
    }
   ],
   "source": [
    "Henry.counter"
   ]
  },
  {
   "cell_type": "markdown",
   "id": "6d666346-df2f-43f0-8990-29ce45e5c38c",
   "metadata": {},
   "source": [
    "**when counter is not called inside the magic method, it does not get counter in real time**"
   ]
  },
  {
   "cell_type": "code",
   "execution_count": 39,
   "id": "20bd85bc-07a4-4a4a-bf5c-9775a535a542",
   "metadata": {},
   "outputs": [],
   "source": [
    "class abc:\n",
    "  counter = 10\n",
    "  def __init__(self):\n",
    "    self.name = \"no name\"\n",
    "    "
   ]
  },
  {
   "cell_type": "code",
   "execution_count": 40,
   "id": "c36ef9f1-6db1-461a-9f5d-2fd0e4d7438b",
   "metadata": {},
   "outputs": [],
   "source": [
    "hill = abc()\n",
    "hen = abc()"
   ]
  },
  {
   "cell_type": "code",
   "execution_count": 42,
   "id": "b606eec9-d12c-482c-9ecd-b3abe26f4ad2",
   "metadata": {},
   "outputs": [
    {
     "data": {
      "text/plain": [
       "10"
      ]
     },
     "execution_count": 42,
     "metadata": {},
     "output_type": "execute_result"
    }
   ],
   "source": [
    "hill.counter"
   ]
  },
  {
   "cell_type": "code",
   "execution_count": 43,
   "id": "8844b3fb-d243-4264-be8c-1a6b33213dbc",
   "metadata": {},
   "outputs": [
    {
     "data": {
      "text/plain": [
       "10"
      ]
     },
     "execution_count": 43,
     "metadata": {},
     "output_type": "execute_result"
    }
   ],
   "source": [
    "hen.counter"
   ]
  },
  {
   "cell_type": "code",
   "execution_count": 44,
   "id": "565c9122-0fa0-4120-8f04-e57b5742c0b8",
   "metadata": {},
   "outputs": [],
   "source": [
    "class Account():\n",
    "  balance = 0\n",
    "  account_no = 1000\n",
    "\n",
    "  def __init__(self, balance = 0):   #constructors\n",
    "    Account.account_no +=1   #attributes\n",
    "    self.__accnum = Account.account_no\n",
    "    self.balance = balance\n",
    "\n",
    "  def __repr__(self):\n",
    "    return f\"Account {self.__accnum} has balance {self.balance}\"\n",
    "  def deposit(self, amount):   #methods\n",
    "    if amount>0:\n",
    "      self.balance += amount\n",
    "\n",
    "  def withdrawl(self, amount):   #methods\n",
    "    pass"
   ]
  },
  {
   "cell_type": "code",
   "execution_count": 45,
   "id": "75f8969d-e8b4-4949-a8e7-6dd3a6101fc8",
   "metadata": {},
   "outputs": [],
   "source": [
    "h = Account()"
   ]
  },
  {
   "cell_type": "code",
   "execution_count": 46,
   "id": "ee64ec62-5900-47ae-9c01-91c1cef5077c",
   "metadata": {},
   "outputs": [
    {
     "data": {
      "text/plain": [
       "0"
      ]
     },
     "execution_count": 46,
     "metadata": {},
     "output_type": "execute_result"
    }
   ],
   "source": [
    "h.balance"
   ]
  },
  {
   "cell_type": "code",
   "execution_count": 47,
   "id": "815f8325-ee9d-4043-9999-ea92d960eb7b",
   "metadata": {},
   "outputs": [],
   "source": [
    "h.balance = 300"
   ]
  },
  {
   "cell_type": "code",
   "execution_count": 48,
   "id": "b9f79d37-4ec4-4790-af0d-9c6198668253",
   "metadata": {},
   "outputs": [
    {
     "data": {
      "text/plain": [
       "Account 1001 has balance 300"
      ]
     },
     "execution_count": 48,
     "metadata": {},
     "output_type": "execute_result"
    }
   ],
   "source": [
    "h"
   ]
  },
  {
   "cell_type": "code",
   "execution_count": 49,
   "id": "4b193e36-f7a0-4ee4-aa0a-e353eec2c54c",
   "metadata": {},
   "outputs": [
    {
     "data": {
      "text/plain": [
       "1001"
      ]
     },
     "execution_count": 49,
     "metadata": {},
     "output_type": "execute_result"
    }
   ],
   "source": [
    "h.account_no"
   ]
  },
  {
   "cell_type": "code",
   "execution_count": 52,
   "id": "2aea8a03-9843-4bb0-b0de-3fe58e1b1c19",
   "metadata": {},
   "outputs": [],
   "source": [
    "h.deposit(800)"
   ]
  },
  {
   "cell_type": "code",
   "execution_count": 53,
   "id": "693e7dcd-0300-4092-9dc8-0954869969f6",
   "metadata": {},
   "outputs": [],
   "source": [
    "h.withdrawl(200)"
   ]
  },
  {
   "cell_type": "code",
   "execution_count": 54,
   "id": "90db3a2d-4a15-41e1-8ed4-683d913c61d9",
   "metadata": {},
   "outputs": [
    {
     "data": {
      "text/plain": [
       "Account 1001 has balance 1100"
      ]
     },
     "execution_count": 54,
     "metadata": {},
     "output_type": "execute_result"
    }
   ],
   "source": [
    "h"
   ]
  },
  {
   "cell_type": "code",
   "execution_count": 55,
   "id": "cbf88cc3-a350-44c2-9c11-57bd28bf56ba",
   "metadata": {},
   "outputs": [
    {
     "data": {
      "text/plain": [
       "1001"
      ]
     },
     "execution_count": 55,
     "metadata": {},
     "output_type": "execute_result"
    }
   ],
   "source": [
    "Account.account_no"
   ]
  },
  {
   "cell_type": "code",
   "execution_count": 56,
   "id": "77998d6c-4fcb-495a-bd55-1b6c468832f0",
   "metadata": {},
   "outputs": [],
   "source": [
    "J = Account(8000)"
   ]
  },
  {
   "cell_type": "code",
   "execution_count": 57,
   "id": "693f62fe-cabe-43fa-981b-90e369a31278",
   "metadata": {},
   "outputs": [
    {
     "data": {
      "text/plain": [
       "1002"
      ]
     },
     "execution_count": 57,
     "metadata": {},
     "output_type": "execute_result"
    }
   ],
   "source": [
    "J.account_no"
   ]
  },
  {
   "cell_type": "code",
   "execution_count": 58,
   "id": "a6da41b9-00e3-437a-a11b-c30da6006529",
   "metadata": {},
   "outputs": [
    {
     "data": {
      "text/plain": [
       "1002"
      ]
     },
     "execution_count": 58,
     "metadata": {},
     "output_type": "execute_result"
    }
   ],
   "source": [
    "Account.account_no"
   ]
  },
  {
   "cell_type": "code",
   "execution_count": 61,
   "id": "b70e7e8a-ffde-499f-bd00-f7052dd28f3a",
   "metadata": {},
   "outputs": [
    {
     "data": {
      "text/plain": [
       "8000"
      ]
     },
     "execution_count": 61,
     "metadata": {},
     "output_type": "execute_result"
    }
   ],
   "source": [
    "J.balance"
   ]
  },
  {
   "cell_type": "code",
   "execution_count": 13,
   "id": "9dec62dd-d72f-4ad7-9862-ad8b316f8301",
   "metadata": {},
   "outputs": [],
   "source": [
    "class Bankaccount():\n",
    "    counter = 0\n",
    "    def __init__(self,amount):\n",
    "        Bankaccount.counter += 1\n",
    "        self.id = Bankaccount.counter\n",
    "        self.balance = amount\n",
    "        self.passbook = []\n",
    "    def __repr__(self):\n",
    "        return \"Welcome to Bank Account\"\n",
    "    \n",
    "    def deposit(self,amount):\n",
    "        self.balance += amount\n",
    "        entry = ('deposit',amount)\n",
    "        self.passbook.append(entry)\n",
    "\n",
    "    def withdrawl(self,amount):\n",
    "        self.balance += amount\n",
    "        entry = ('withdrawl',amount)\n",
    "        self.passbook.append(entry)       "
   ]
  },
  {
   "cell_type": "code",
   "execution_count": 3,
   "id": "796fbc02-dbd2-4025-9ffd-49d0f457b7ba",
   "metadata": {},
   "outputs": [],
   "source": [
    "Hillary = Bankaccount(5000)"
   ]
  },
  {
   "cell_type": "code",
   "execution_count": 4,
   "id": "597ce2b8-9419-47a6-b2c9-02186de185f1",
   "metadata": {},
   "outputs": [
    {
     "data": {
      "text/plain": [
       "5000"
      ]
     },
     "execution_count": 4,
     "metadata": {},
     "output_type": "execute_result"
    }
   ],
   "source": [
    "Hillary.balance"
   ]
  },
  {
   "cell_type": "code",
   "execution_count": 5,
   "id": "da342270-3ca4-45ca-8b8a-e314869e2eef",
   "metadata": {},
   "outputs": [
    {
     "data": {
      "text/plain": [
       "1"
      ]
     },
     "execution_count": 5,
     "metadata": {},
     "output_type": "execute_result"
    }
   ],
   "source": [
    "Hillary.id"
   ]
  },
  {
   "cell_type": "code",
   "execution_count": 6,
   "id": "eea0715a-c017-4c0a-91c6-5844f481716e",
   "metadata": {},
   "outputs": [],
   "source": [
    "Hillary.deposit(300)"
   ]
  },
  {
   "cell_type": "code",
   "execution_count": 7,
   "id": "380315d6-492b-4cc0-8750-681fe518357b",
   "metadata": {},
   "outputs": [
    {
     "data": {
      "text/plain": [
       "[('deposit', 300)]"
      ]
     },
     "execution_count": 7,
     "metadata": {},
     "output_type": "execute_result"
    }
   ],
   "source": [
    "Hillary.passbook"
   ]
  },
  {
   "cell_type": "code",
   "execution_count": 8,
   "id": "f378e4d8-4a95-446a-bca2-f35da4fa9271",
   "metadata": {},
   "outputs": [],
   "source": [
    "Henry = Bankaccount(9000)"
   ]
  },
  {
   "cell_type": "code",
   "execution_count": 9,
   "id": "68b11074-cb52-44cf-9824-65519822dea2",
   "metadata": {},
   "outputs": [
    {
     "data": {
      "text/plain": [
       "2"
      ]
     },
     "execution_count": 9,
     "metadata": {},
     "output_type": "execute_result"
    }
   ],
   "source": [
    "Henry.id"
   ]
  },
  {
   "cell_type": "code",
   "execution_count": 10,
   "id": "6f392171-9710-4ed2-a1f9-4b051b24b773",
   "metadata": {},
   "outputs": [],
   "source": [
    "Henry.withdrawl(200)"
   ]
  },
  {
   "cell_type": "code",
   "execution_count": 11,
   "id": "b5ae5a61-d6cc-4b64-8140-3c9239fd9027",
   "metadata": {},
   "outputs": [
    {
     "data": {
      "text/plain": [
       "[('withdrawl', 200)]"
      ]
     },
     "execution_count": 11,
     "metadata": {},
     "output_type": "execute_result"
    }
   ],
   "source": [
    "Henry.passbook"
   ]
  },
  {
   "cell_type": "code",
   "execution_count": 14,
   "id": "6d7280f2-8692-47db-b17f-b9e115f99f97",
   "metadata": {},
   "outputs": [
    {
     "name": "stdout",
     "output_type": "stream",
     "text": [
      "9200\n",
      "5300\n"
     ]
    }
   ],
   "source": [
    "print(Henry.balance)\n",
    "print(Hillary.balance)"
   ]
  },
  {
   "cell_type": "code",
   "execution_count": 18,
   "id": "3c172450-8aee-4af8-a480-6cd866e0a310",
   "metadata": {},
   "outputs": [
    {
     "name": "stdout",
     "output_type": "stream",
     "text": [
      "<__main__.Bankaccount object at 0x000002167B3FD7C0>\n"
     ]
    }
   ],
   "source": [
    "print(Henry)"
   ]
  },
  {
   "cell_type": "markdown",
   "id": "b2d6b6e6-3932-4237-bb2a-bc36611f4151",
   "metadata": {},
   "source": [
    "### Difference between Class, Instance and Object"
   ]
  },
  {
   "cell_type": "code",
   "execution_count": 19,
   "id": "123a05db-6c56-401b-a672-cfd0d0fa9706",
   "metadata": {},
   "outputs": [
    {
     "name": "stdout",
     "output_type": "stream",
     "text": [
      "Rodger details:\n",
      "Rodger is a dog\n",
      "Breed:  Pug\n",
      "Color:  brown\n"
     ]
    }
   ],
   "source": [
    "class Dog:\n",
    "\n",
    "    # Class Variable\n",
    "    animal = 'dog'\n",
    "\n",
    "    # The init method or constructor\n",
    "    def __init__(self, breed, color):\n",
    "\n",
    "        # Instance Variable\n",
    "        self.breed = breed\n",
    "        self.color = color\n",
    "\n",
    "\n",
    "# Objects of Dog class\n",
    "Rodger = Dog(\"Pug\", \"brown\")\n",
    "\n",
    "print('Rodger details:')\n",
    "print('Rodger is a', Rodger.animal)\n",
    "print('Breed: ', Rodger.breed)\n",
    "print('Color: ', Rodger.color)"
   ]
  },
  {
   "cell_type": "markdown",
   "id": "19d80cf4-adfa-464a-9a8d-c9c9a6f8f011",
   "metadata": {},
   "source": [
    "### Inheritance"
   ]
  },
  {
   "cell_type": "code",
   "execution_count": null,
   "id": "5720828c-2895-4f63-8a8e-5da368dd6cf0",
   "metadata": {},
   "outputs": [],
   "source": [
    "\"\"\"Class BaseClass:\n",
    "    {Body}\n",
    "   Class DerivedClass(BaseClass):\n",
    "    {Body}\"\"\""
   ]
  },
  {
   "cell_type": "code",
   "execution_count": 20,
   "id": "943eb8ed-3b4c-4ba3-a55a-c3e91cb4300d",
   "metadata": {},
   "outputs": [],
   "source": [
    "class Vehicle:    #Base class or parent class\n",
    "  def __init__(self,name=\" \",color = \" \", mileage = 0):\n",
    "    self.name = name\n",
    "    self.mileage = mileage\n",
    "    self.color = color\n",
    "    self.\n",
    "  def __repr__(self):\n",
    "    return f\"the vehicle is a {self.name} with a mileage of {self.mileage}\"\n",
    "\n",
    "class Bus(Vehicle):   #sub class or child class\n",
    "    def __init__(self,mileage = 100):\n",
    "        self.mileage = mileage\n",
    "    def __repr__(self):\n",
    "        return f\"This is a {self.name} with a stunning {self.color} \\nMileage = {self.mileage}\""
   ]
  },
  {
   "cell_type": "code",
   "execution_count": 21,
   "id": "b4272111-1401-4e1b-bd11-31e9aad8626f",
   "metadata": {},
   "outputs": [],
   "source": [
    "van = Vehicle('ambassador','green',50)"
   ]
  },
  {
   "cell_type": "code",
   "execution_count": 22,
   "id": "31958089-8ec3-4d3b-a1ad-15e5c58fea78",
   "metadata": {},
   "outputs": [
    {
     "data": {
      "text/plain": [
       "'green'"
      ]
     },
     "execution_count": 22,
     "metadata": {},
     "output_type": "execute_result"
    }
   ],
   "source": [
    "van.color"
   ]
  },
  {
   "cell_type": "code",
   "execution_count": 23,
   "id": "4cf75e2d-869a-4bc3-8df6-139bfdb0c5d4",
   "metadata": {},
   "outputs": [
    {
     "data": {
      "text/plain": [
       "the vehicle is a ambassador with a mileage of 50"
      ]
     },
     "execution_count": 23,
     "metadata": {},
     "output_type": "execute_result"
    }
   ],
   "source": [
    "van"
   ]
  },
  {
   "cell_type": "code",
   "execution_count": 24,
   "id": "45af7b2b-dbd3-49c0-96c8-29babaa92b27",
   "metadata": {},
   "outputs": [],
   "source": [
    "Omni = Bus()"
   ]
  },
  {
   "cell_type": "code",
   "execution_count": 25,
   "id": "0a271a7c-1c10-4589-9a5c-3201403e0f5e",
   "metadata": {},
   "outputs": [
    {
     "data": {
      "text/plain": [
       "100"
      ]
     },
     "execution_count": 25,
     "metadata": {},
     "output_type": "execute_result"
    }
   ],
   "source": [
    "Omni.mileage"
   ]
  },
  {
   "cell_type": "markdown",
   "id": "a83e68f9-c747-41b2-99f8-933fd485752a",
   "metadata": {},
   "source": [
    "#### Using super() method in subclass"
   ]
  },
  {
   "cell_type": "markdown",
   "id": "3743f70c-7c90-4d8f-bb81-7c4755a45c27",
   "metadata": {},
   "source": [
    "A method from a parent class can be called in subclass using the super() function. It enables method overriding and inheritance. Even if the current class has replaced those methods with its own implementation, calling super() allows you to access and use the parent class’s methods. By doing this, you may enhance and modify the parent class’s behavior."
   ]
  },
  {
   "cell_type": "code",
   "execution_count": 26,
   "id": "053a803a-4f51-4238-95b5-80260106e4e8",
   "metadata": {},
   "outputs": [],
   "source": [
    "class Account:\n",
    "  counter = 100\n",
    "\n",
    "  def __init__(self,amount=0):    #initializing the object\n",
    "    Account.counter += 1        #these are the attributes which is common to all the objects in the class\n",
    "    self.balance = amount\n",
    "    self.minbalance = 30\n",
    "    self.id = Account.counter\n",
    "    self.passbook = []\n",
    "    self.numtrans = 0\n",
    "    self.maxtrans = 3\n",
    "\n",
    "  def __repr__(self):\n",
    "    return f\"Your account id is {Account.counter} and your balance amount is {self.balance}\"\n",
    "\n",
    "  def deposit(self,amount):\n",
    "    if self.numtrans < self.maxtrans:\n",
    "      self.balance += amount\n",
    "      entry = ('deposit',amount)\n",
    "      self.passbook.append(entry)\n",
    "      self.numtrans += 1\n",
    "    else:\n",
    "      print(\"transaction limit exceeded\")\n",
    "\n",
    "  def withdraw(self,amount):\n",
    "    if self.minbalance < amount < self.balance:\n",
    "      if self.numtrans < self.maxtrans:\n",
    "        self.balance -= amount\n",
    "        print(\"approved\")\n",
    "        entry = ('withdrawn', amount)\n",
    "        self.passbook.append(entry)\n",
    "        self.numtrans += 1\n",
    "      else:\n",
    "        print(\"transaction limit exceeded\")\n",
    "    else:\n",
    "      print(\"Check amount to balance\")\n",
    "      pass\n",
    "\n",
    "class Savingsaccount(Account):\n",
    "  def __init__(self,amount):\n",
    "    super().__init__()\n",
    "    self.maxtrans = 5       #since my max transaction is only 2 for overall class, I want to customize for savings account alone. Hence I am overriding\n",
    "class Currentaccount(Account):    #these are the child class of the parent class Account. Inheritance.\n",
    "  pass"
   ]
  },
  {
   "cell_type": "code",
   "execution_count": 51,
   "id": "95ae9eb4-d065-4374-b19b-ee8ffc8ecd4c",
   "metadata": {},
   "outputs": [],
   "source": [
    "class Mammal():\n",
    "\n",
    "    def __init__(self, name):\n",
    "        print(name, \"Is a mammal\")\n",
    "\n",
    "class canFly(Mammal):\n",
    "\n",
    "    def __init__(self, canFly_name):\n",
    "        print(canFly_name, \"cannot fly\")\n",
    "\n",
    "        # Calling Parent class\n",
    "        # Constructor\n",
    "        super().__init__(canFly_name)"
   ]
  },
  {
   "cell_type": "code",
   "execution_count": 52,
   "id": "4b651b0d-d817-40ec-ba86-046af5c69f7a",
   "metadata": {},
   "outputs": [
    {
     "name": "stdout",
     "output_type": "stream",
     "text": [
      "Lion Is a mammal\n"
     ]
    }
   ],
   "source": [
    "m = Mammal('Lion')"
   ]
  },
  {
   "cell_type": "code",
   "execution_count": 53,
   "id": "52642366-8aea-40b8-8272-2a0a7fcbeba5",
   "metadata": {},
   "outputs": [
    {
     "name": "stdout",
     "output_type": "stream",
     "text": [
      "crow cannot fly\n",
      "crow Is a mammal\n"
     ]
    }
   ],
   "source": [
    "b = canFly('crow')"
   ]
  },
  {
   "cell_type": "code",
   "execution_count": 57,
   "id": "5c564e38-a1cf-4655-8103-0cfe1168f1b6",
   "metadata": {},
   "outputs": [],
   "source": [
    "class Mammal():\n",
    "\n",
    "    def __init__(self, name):\n",
    "        print(name, \"Is a mammal\")\n",
    "        self.name = name\n",
    "\n",
    "class canFly(Mammal):\n",
    "\n",
    "    def __init__(self, canFly_name):\n",
    "        print(canFly_name, \"cannot fly\")"
   ]
  },
  {
   "cell_type": "code",
   "execution_count": 58,
   "id": "2676daad-d9b1-48e1-aa7d-22ce271bbaf0",
   "metadata": {},
   "outputs": [
    {
     "name": "stdout",
     "output_type": "stream",
     "text": [
      "leopard Is a mammal\n"
     ]
    }
   ],
   "source": [
    "g = Mammal('leopard')"
   ]
  },
  {
   "cell_type": "code",
   "execution_count": 59,
   "id": "6bab898e-8069-43a6-8814-2e797f01e556",
   "metadata": {},
   "outputs": [
    {
     "name": "stdout",
     "output_type": "stream",
     "text": [
      "Zebra cannot fly\n"
     ]
    }
   ],
   "source": [
    "h = canFly('Zebra')"
   ]
  },
  {
   "cell_type": "code",
   "execution_count": 60,
   "id": "147a7201-ee65-4bd5-b8c9-fe23dd6c43c9",
   "metadata": {},
   "outputs": [
    {
     "data": {
      "text/plain": [
       "'leopard'"
      ]
     },
     "execution_count": 60,
     "metadata": {},
     "output_type": "execute_result"
    }
   ],
   "source": [
    "g.name"
   ]
  },
  {
   "cell_type": "code",
   "execution_count": 61,
   "id": "fcb8a26f-b08d-4038-bc55-cccefe4512d6",
   "metadata": {},
   "outputs": [
    {
     "ename": "AttributeError",
     "evalue": "'canFly' object has no attribute 'name'",
     "output_type": "error",
     "traceback": [
      "\u001b[1;31m---------------------------------------------------------------------------\u001b[0m",
      "\u001b[1;31mAttributeError\u001b[0m                            Traceback (most recent call last)",
      "Cell \u001b[1;32mIn[61], line 1\u001b[0m\n\u001b[1;32m----> 1\u001b[0m \u001b[43mh\u001b[49m\u001b[38;5;241;43m.\u001b[39;49m\u001b[43mname\u001b[49m\n",
      "\u001b[1;31mAttributeError\u001b[0m: 'canFly' object has no attribute 'name'"
     ]
    }
   ],
   "source": [
    "h.name"
   ]
  },
  {
   "cell_type": "markdown",
   "id": "ac196603-16a7-4470-ab4f-def4be4b4bed",
   "metadata": {},
   "source": [
    "## Encapsulation"
   ]
  },
  {
   "cell_type": "code",
   "execution_count": 43,
   "id": "56400822-75d2-4184-8b82-60390ffd7374",
   "metadata": {},
   "outputs": [],
   "source": [
    "class God:\n",
    "    def __init__(self):\n",
    "        self._miracles = 1000\n",
    "\n",
    "class man(God):\n",
    "    def __init__(self):\n",
    "        self._miracles = 50"
   ]
  },
  {
   "cell_type": "code",
   "execution_count": 44,
   "id": "8f455f68-34ce-401e-9309-c05e9c3a12c1",
   "metadata": {},
   "outputs": [],
   "source": [
    "Jude = God()"
   ]
  },
  {
   "cell_type": "code",
   "execution_count": 46,
   "id": "5c535839-dc6f-4486-9057-ed7e7c151d75",
   "metadata": {},
   "outputs": [],
   "source": [
    "Jack = man()"
   ]
  },
  {
   "cell_type": "code",
   "execution_count": 47,
   "id": "63ea7ff8-308d-48e6-8a35-9c2f5ef139d3",
   "metadata": {},
   "outputs": [
    {
     "data": {
      "text/plain": [
       "50"
      ]
     },
     "execution_count": 47,
     "metadata": {},
     "output_type": "execute_result"
    }
   ],
   "source": [
    "Jack._miracles"
   ]
  },
  {
   "cell_type": "code",
   "execution_count": 48,
   "id": "328d9348-fbdc-4510-af0c-abfef3b7dd24",
   "metadata": {},
   "outputs": [
    {
     "data": {
      "text/plain": [
       "1000"
      ]
     },
     "execution_count": 48,
     "metadata": {},
     "output_type": "execute_result"
    }
   ],
   "source": [
    "Jude._miracles"
   ]
  },
  {
   "cell_type": "markdown",
   "id": "5ed62ded-edfd-43b4-a71a-c8a83827f3fb",
   "metadata": {},
   "source": [
    "Public Members: By default, attributes and methods are public and can be accessed from outside the class.\n",
    "\n",
    "Protected Members: Use a single underscore (_) prefix to indicate that an attribute or method is intended for internal use within the class and its subclasses.\n",
    "\n",
    "Private Members: Use double underscores (__) prefix to make an attribute or method private. This leads to name mangling, making it more challenging to access from outside the class. "
   ]
  },
  {
   "cell_type": "markdown",
   "id": "bfe5ff4f-1794-4499-997d-c6058968bd57",
   "metadata": {},
   "source": [
    "#### Dictionary"
   ]
  },
  {
   "cell_type": "code",
   "execution_count": 18,
   "id": "86f0426d-becf-45bd-a3e0-ba6f9495dcbd",
   "metadata": {},
   "outputs": [
    {
     "name": "stdout",
     "output_type": "stream",
     "text": [
      "3\n"
     ]
    }
   ],
   "source": [
    "class Fruits:\n",
    "    def __init__(self,price):\n",
    "        self.price = price\n",
    "F = Fruits(10)\n",
    "F.quantity = 10\n",
    "F.bag = 2\n",
    "print(len(F.__dict__))"
   ]
  },
  {
   "cell_type": "code",
   "execution_count": null,
   "id": "60edea9c-e17b-4957-bf94-045534ceaf3e",
   "metadata": {},
   "outputs": [],
   "source": []
  }
 ],
 "metadata": {
  "kernelspec": {
   "display_name": "Python 3 (ipykernel)",
   "language": "python",
   "name": "python3"
  },
  "language_info": {
   "codemirror_mode": {
    "name": "ipython",
    "version": 3
   },
   "file_extension": ".py",
   "mimetype": "text/x-python",
   "name": "python",
   "nbconvert_exporter": "python",
   "pygments_lexer": "ipython3",
   "version": "3.12.6"
  }
 },
 "nbformat": 4,
 "nbformat_minor": 5
}
