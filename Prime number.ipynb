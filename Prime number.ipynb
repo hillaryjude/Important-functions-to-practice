{
 "cells": [
  {
   "cell_type": "markdown",
   "id": "4ee5d39c-50c9-41c8-ba1f-268343ab3823",
   "metadata": {},
   "source": [
    "## Finding the prime number"
   ]
  },
  {
   "cell_type": "code",
   "execution_count": 1,
   "id": "e43f21c0-a169-47ac-b6a1-440622bb5d5a",
   "metadata": {},
   "outputs": [],
   "source": [
    "def isprime(num): #defining a new function with a variable\n",
    "  if num == 2: #if that variable happens to be 2, then it directly says the output is True\n",
    "    return True\n",
    "  for i in range (2, num): #now looping the another variable from 2 to the defined variable (not included)\n",
    "    if num % i == 0: #if the defined variable is completely divisible and leaves reminder 0, then it is not Prime. therefore it should saty False\n",
    "      return False   # Likewise, num should be divided by 2, 3, 4 till the previous number but not the number itself. As prime can be % by 1 and itself\n",
    "  return True"
   ]
  },
  {
   "cell_type": "code",
   "execution_count": 13,
   "id": "757f0cf9-c8f6-4a07-af2f-b2b5c53e43d1",
   "metadata": {},
   "outputs": [],
   "source": [
    "def primeno(num):\n",
    "    if num == 2:\n",
    "        return False\n",
    "    for i in range (2,num):\n",
    "        if num % i != 0:\n",
    "            return True\n",
    "        else:\n",
    "            return False"
   ]
  },
  {
   "cell_type": "code",
   "execution_count": 15,
   "id": "d25fd01a-f961-49c0-93ab-f65a903afc77",
   "metadata": {},
   "outputs": [
    {
     "data": {
      "text/plain": [
       "True"
      ]
     },
     "execution_count": 15,
     "metadata": {},
     "output_type": "execute_result"
    }
   ],
   "source": [
    "primeno(41)"
   ]
  },
  {
   "cell_type": "code",
   "execution_count": 16,
   "id": "c02df378-0356-4ef3-a675-4753e5aa6b73",
   "metadata": {},
   "outputs": [
    {
     "data": {
      "text/plain": [
       "True"
      ]
     },
     "execution_count": 16,
     "metadata": {},
     "output_type": "execute_result"
    }
   ],
   "source": [
    "primeno(3)"
   ]
  },
  {
   "cell_type": "code",
   "execution_count": 14,
   "id": "6ff3f398-6fc0-4ff0-80d3-6a5f2ff80a2c",
   "metadata": {},
   "outputs": [
    {
     "data": {
      "text/plain": [
       "False"
      ]
     },
     "execution_count": 14,
     "metadata": {},
     "output_type": "execute_result"
    }
   ],
   "source": [
    "primeno(2)"
   ]
  },
  {
   "cell_type": "code",
   "execution_count": 17,
   "id": "6128a861-bc4c-4fbf-a73b-d4c987fa763c",
   "metadata": {},
   "outputs": [
    {
     "data": {
      "text/plain": [
       "True"
      ]
     },
     "execution_count": 17,
     "metadata": {},
     "output_type": "execute_result"
    }
   ],
   "source": [
    "primeno(23)"
   ]
  },
  {
   "cell_type": "code",
   "execution_count": null,
   "id": "6e13ab81-e76c-4089-a816-052550955370",
   "metadata": {},
   "outputs": [],
   "source": []
  }
 ],
 "metadata": {
  "kernelspec": {
   "display_name": "Python 3 (ipykernel)",
   "language": "python",
   "name": "python3"
  },
  "language_info": {
   "codemirror_mode": {
    "name": "ipython",
    "version": 3
   },
   "file_extension": ".py",
   "mimetype": "text/x-python",
   "name": "python",
   "nbconvert_exporter": "python",
   "pygments_lexer": "ipython3",
   "version": "3.12.6"
  }
 },
 "nbformat": 4,
 "nbformat_minor": 5
}
