{
 "cells": [
  {
   "cell_type": "markdown",
   "id": "d6f44bf8-495a-44ff-b7da-94d42dbcab9f",
   "metadata": {},
   "source": [
    "# Target pair sum"
   ]
  },
  {
   "cell_type": "code",
   "execution_count": 1,
   "id": "ed27435f-6827-4d66-96c8-907c365f0da5",
   "metadata": {},
   "outputs": [
    {
     "name": "stdout",
     "output_type": "stream",
     "text": [
      "Pair found: (2, 8)\n"
     ]
    }
   ],
   "source": [
    "def find_pair(arr, target_sum):\n",
    "    arr.sort()  # Ensure the array is sorted\n",
    "\n",
    "    for i in range(len(arr)):\n",
    "        complement = target_sum - arr[i]\n",
    "        \n",
    "        # Use binary search to find the complement\n",
    "        left, right = i + 1, len(arr) - 1\n",
    "        while left <= right:\n",
    "            mid = (left + right) // 2\n",
    "            if arr[mid] == complement:\n",
    "                return arr[i], arr[mid]\n",
    "            elif arr[mid] < complement:\n",
    "                left = mid + 1\n",
    "            else:\n",
    "                right = mid - 1\n",
    "\n",
    "    return None  # No pair found\n",
    "\n",
    "# Example usage:\n",
    "arr = [2, 3, 4, 5, 6, 7, 8, 9]\n",
    "target_sum = 10\n",
    "\n",
    "result = find_pair(arr, target_sum)\n",
    "if result:\n",
    "    print(\"Pair found:\", result)\n",
    "else:\n",
    "    print(\"Pair not found\")"
   ]
  },
  {
   "cell_type": "markdown",
   "id": "d2dd9105-6cbe-4613-983b-c3946885353b",
   "metadata": {},
   "source": [
    "# Pointers method"
   ]
  },
  {
   "cell_type": "code",
   "execution_count": 14,
   "id": "352619dd-b933-4e7c-9064-473c0897acc9",
   "metadata": {},
   "outputs": [],
   "source": [
    "def find(arr,target):\n",
    "    low = 0\n",
    "    high = len(arr)-1\n",
    "    while low<high:\n",
    "        if arr[low] + arr[high] == target:\n",
    "            return arr[low],arr[high]\n",
    "        elif arr[low] + arr[high] < target:\n",
    "            low += 1\n",
    "        else:\n",
    "            high -= 1\n",
    "    return False"
   ]
  },
  {
   "cell_type": "code",
   "execution_count": 15,
   "id": "25f0e24a-d6f6-4cac-88c4-07f6c5967a40",
   "metadata": {},
   "outputs": [
    {
     "name": "stdout",
     "output_type": "stream",
     "text": [
      "(1, 4)\n"
     ]
    }
   ],
   "source": [
    "arr = [1, 2, 3, 4, 5, 6, 7, 8, 9]\n",
    "print(find(arr,5))"
   ]
  },
  {
   "cell_type": "markdown",
   "id": "affd51c4-34f8-4529-b015-f86fd799baeb",
   "metadata": {},
   "source": [
    "**Linear search in list, sets and dictionary**\n",
    "\n",
    "**Time Complexity:** O(n) in the worst case.\n",
    "Reason: To find an element in a **list**, we typically need to iterate through each element until we find a match or reach the end of the list. This linear search has a time complexity of O(n), where n is the length of the list.   \n",
    "Set:\n",
    "\n",
    "**Time Complexity:** O(1) (average case)\n",
    "Reason: **Sets and dictionary** are implemented using hash tables, which allow for efficient lookup of elements. When you search for an element in a set, Python calculates the hash value of the element and directly accesses its location in the hash table. This makes the lookup operation very fast, typically taking constant time.\n",
    "In summary:\n",
    "\n",
    "Lists: Slower for searching, especially for large lists.\n",
    "Sets & dictionary: Faster for searching due to their efficient hash-based implementation.\n"
   ]
  },
  {
   "cell_type": "code",
   "execution_count": null,
   "id": "96eab0d5-9315-4e9a-990a-fbbd186e4cf6",
   "metadata": {},
   "outputs": [],
   "source": []
  },
  {
   "cell_type": "code",
   "execution_count": null,
   "id": "19685011-e3db-4213-95e8-425796f5f160",
   "metadata": {},
   "outputs": [],
   "source": []
  }
 ],
 "metadata": {
  "kernelspec": {
   "display_name": "Python 3 (ipykernel)",
   "language": "python",
   "name": "python3"
  },
  "language_info": {
   "codemirror_mode": {
    "name": "ipython",
    "version": 3
   },
   "file_extension": ".py",
   "mimetype": "text/x-python",
   "name": "python",
   "nbconvert_exporter": "python",
   "pygments_lexer": "ipython3",
   "version": "3.12.6"
  }
 },
 "nbformat": 4,
 "nbformat_minor": 5
}
